{
 "cells": [
  {
   "cell_type": "markdown",
   "metadata": {},
   "source": [
    "<img style=\"border:2px solid black;\" src=\"accueil.png\" width=100% border=\"5\"> </center> \n",
    "# <span style=\"color:blue\">Porous Media - Flow modelling tools using Jupyter </span>\n",
    "## <span style=\"color:red\"> PYGRDECL based Upscaling notebook </span>"
   ]
  },
  {
   "cell_type": "markdown",
   "metadata": {},
   "source": [
    "## <span style=\"color:blue\"> 1. Create initial GRDECL ECLIPSE/PETREL Pillar Grid </span>"
   ]
  },
  {
   "cell_type": "code",
   "execution_count": null,
   "metadata": {},
   "outputs": [
    {
     "name": "stdout",
     "output_type": "stream",
     "text": [
      "     Creating Grid:\n",
      "       Type: CornerPoint Grid\n",
      "       Grid Dimensions (NX,NY,NZ): (10 x 10 x 10)\n",
      "       Number Of Grid Cells: 1000\n",
      "       Created: Fields: ***PERMX***PERMY***PERMZ***PORO***\n",
      "[Geometry] Converting GRDECL to Paraview Hexahedron mesh data....\n",
      "     NumOfPoints 8000\n",
      "     NumOfCells 1000\n",
      "     .....Done!\n",
      "[Output] Writing \"Results/PILLAR_Grid.vtu\" Paraview file....Done!\n"
     ]
    }
   ],
   "source": [
    "from GRDECL2VTK import *\n",
    "\n",
    "# 1.1 Set physical dimensions in physDims (m)\n",
    "physDims=[2000.0,1000,500]\n",
    "\n",
    "# 1.2 Set model grid dimensions in gridDims\n",
    "Nx=10;  Ny=Nx;  Nz=Nx\n",
    "gridDims=[Nx,Ny,Nz]\n",
    "\n",
    "# 1.3 Set corner point grid options\n",
    "opt=buildCPGGrid_opt(disturbed=False,     flat=True,\\\n",
    "                     fault_drop=350 , fault_nx=Nx//2)\n",
    "\n",
    "# 1.4 Create empty GeologyModel - Build CPG\n",
    "Model=GeologyModel()\n",
    "Model.buildCPGGrid(physDims,gridDims,opt)\n",
    "\n",
    "# # 1.5 Compute First TPFA (block centered) Pressure values\n",
    "# import time\n",
    "# t0=time.time()\n",
    "Model.compute_TPFA_Pressure(Press_inj=1,direction=\"ijk\",Fault_opt=opt)\n",
    "Model.computeGradP_V()\n",
    "# print(\"Elapsed time for TPFA: \",time.time()-t0)\n",
    "# Model.plot_scalar(\"Pressure\").show()\n",
    "\n",
    "Model.plot_streamlines(notebook=False,scalar=\"Pressure\",source_radius=100).show()"
   ]
  },
  {
   "cell_type": "markdown",
   "metadata": {},
   "source": [
    "## <span style=\"color:blue\"> 2. Generate  synthetic Porosity/Permeability(mD) values </span>"
   ]
  },
  {
   "cell_type": "code",
   "execution_count": null,
   "metadata": {
    "scrolled": false
   },
   "outputs": [],
   "source": [
    "from utils import *\n",
    "\n",
    "# 2.1 Create random perm field with normal distribution for each layer\n",
    "K_LayerPerm=[1000,10,1000,10]\n",
    "# K,phi=logNormLayers(gridDims,K_LayerPerm,poro_const=0.05)\n",
    "K,phi=logNormLayers_basc(gridDims,K_LayerPerm,poro_const=0.05)\n",
    "\n",
    "# 2.2 Update porosity/permeability fields\n",
    "Update_fields=[\"PORO\",\"PERMX\",\"PERMY\",\"PERMZ\"]\n",
    "Update_values=[ phi  , K     , K     , 0.1*K ]\n",
    "Model.UpdateListCellData(var_list=Update_fields,array_list=Update_values)\n",
    "\n",
    "# 2.3 Visualize Fine scale histogram\n",
    "for scalar in [\"PORO\",\"PERMX\"]:\n",
    "    Model.GRDECL_Data.Plot_hist(scalar,text=\"Fine scale\")\n",
    "\n",
    "# 2.3 Compute TPFA (block centered) Pressure values\n",
    "Model.compute_TPFA_Pressure(Press_inj=1,direction=\"ijk\",Fault_opt=opt)\n",
    "Model.plot_scalar(\"Pressure\",ITK=True).show()"
   ]
  },
  {
   "cell_type": "markdown",
   "metadata": {},
   "source": [
    "## <span style=\"color:blue\"> 3. Create coarse grid by partitoning fine gride</span>"
   ]
  },
  {
   "cell_type": "code",
   "execution_count": null,
   "metadata": {},
   "outputs": [],
   "source": [
    "# 3.1 Set coarsening factor (grid dimensions of coarse cells)\n",
    "Model.GRDECL_Data.coarse2fine_ratio=[5]*3\n",
    "\n",
    "# 3.2 Create coarse grid and upscale porosity\n",
    "Model2=Model.create_coarse_model()\n",
    "\n",
    "# List of implemented upscaling methods\n",
    "methods=Model.Upscaler.list_upscaling_methods()\n",
    "print(methods)"
   ]
  },
  {
   "cell_type": "code",
   "execution_count": null,
   "metadata": {
    "scrolled": false
   },
   "outputs": [],
   "source": [
    "# 3.3 Upscaling\n",
    "Model.Upscale_Perm(['Harmx_mean','Harmy_mean','Harmz_mean'])\n",
    "\n",
    "# 3.3 Compute Pressure for coarse model\n",
    "Model2.compute_TPFA_Pressure(Press_inj=1,direction=\"ijk\",Fault_opt=opt)\n",
    "# # Model.two_plots_scalar(\"Pressure\").show(False)\n",
    "Model2.plot_scalar(\"Pressure\").show()\n",
    "\n"
   ]
  },
  {
   "cell_type": "code",
   "execution_count": null,
   "metadata": {
    "scrolled": false
   },
   "outputs": [],
   "source": [
    "# # 3.3 Upscaling\n",
    "# Model.Upscale_Perm('Harmz_mean')\n",
    "\n",
    "# # 3.3 Compute Pressure for coarse model\n",
    "# Model2.compute_TPFA_Pressure(Press_inj=1,direction=\"i\",Fault_opt=opt )\n",
    "# # # Model.two_plots_scalar(\"Pressure\").show(False)\n",
    "# Model2.plot_scalar(\"Pressure\").show()\n",
    "\n"
   ]
  },
  {
   "cell_type": "code",
   "execution_count": null,
   "metadata": {
    "scrolled": false
   },
   "outputs": [],
   "source": [
    "# # 3.3 Upscaling\n",
    "# Model.Upscaler.nlayer=0\n",
    "# Model.Upscaler.Lin_BC=False\n",
    "# Model.Upscale_Perm('TPFA_loc')\n",
    "\n",
    "# # 3.3 Compute Pressure for coarse model\n",
    "# Model2.compute_TPFA_Pressure(Press_inj=1,direction=\"i\",Fault_opt=opt )\n",
    "# # # Model.two_plots_scalar(\"Pressure\").show(False)\n",
    "# Model2.plot_scalar(\"Pressure\").show()\n"
   ]
  },
  {
   "cell_type": "code",
   "execution_count": null,
   "metadata": {},
   "outputs": [],
   "source": [
    "# # 3.3 Upscaling\n",
    "# Model.Upscaler.nlayer=0\n",
    "# Model.Upscaler.Lin_BC=True\n",
    "# Model.Upscale_Perm('TPFA_loc')\n",
    "\n",
    "# # 3.3 Compute Pressure for coarse model\n",
    "# Model2.compute_TPFA_Pressure(Press_inj=1,direction=\"i\",Fault_opt=opt )\n",
    "# # # Model.two_plots_scalar(\"Pressure\").show(False)\n",
    "# Model2.plot_scalar(\"Pressure\").show()\n"
   ]
  },
  {
   "cell_type": "code",
   "execution_count": null,
   "metadata": {},
   "outputs": [],
   "source": [
    "# 3.3 Upscaling\n",
    "Model.Upscaler.nlayer=0\n",
    "Model.Upscaler.Lin_BC=True\n",
    "Model.Upscale_Perm('TPFA_loc')\n",
    "\n",
    "# 3.3 Compute Pressure for coarse model\n",
    "Model2.compute_TPFA_Pressure(Press_inj=1,direction=\"ijk\",Fault_opt=opt )\n",
    "# # Model.two_plots_scalar(\"Pressure\").show(False)\n",
    "Model2.plot_scalar(\"Pressure\").show()"
   ]
  },
  {
   "cell_type": "code",
   "execution_count": null,
   "metadata": {},
   "outputs": [],
   "source": [
    "# 3.3 Upscaling\n",
    "Model.Upscaler.nlayer=0\n",
    "Model.Upscaler.Lin_BC=False\n",
    "Model.Upscale_Perm('TPFA_glob')\n",
    "\n",
    "# 3.3 Compute Pressure for coarse model\n",
    "Model2.compute_TPFA_Pressure(Press_inj=1,direction=\"ijk\",Fault_opt=opt )\n",
    "# # Model.two_plots_scalar(\"Pressure\").show(False)\n",
    "Model2.plot_scalar(\"Pressure\").show()"
   ]
  },
  {
   "cell_type": "code",
   "execution_count": null,
   "metadata": {},
   "outputs": [],
   "source": []
  }
 ],
 "metadata": {
  "kernelspec": {
   "display_name": "PyCharm (PyGRDECL)",
   "language": "python",
   "name": "pycharm-784f070e"
  },
  "language_info": {
   "codemirror_mode": {
    "name": "ipython",
    "version": 3
   },
   "file_extension": ".py",
   "mimetype": "text/x-python",
   "name": "python",
   "nbconvert_exporter": "python",
   "pygments_lexer": "ipython3",
   "version": "3.8.10"
  }
 },
 "nbformat": 4,
 "nbformat_minor": 2
}
