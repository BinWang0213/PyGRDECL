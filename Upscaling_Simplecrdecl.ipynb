{
 "cells": [
  {
   "cell_type": "markdown",
   "metadata": {},
   "source": [
    "<img style=\"border:2px solid black;\" src=\"Results/accueil.png\" width=100% border=\"5\"> </center> \n",
    "# <span style=\"color:blue\">Porous Media Flow modelling using Jupyter </span>\n",
    "## <span style=\"color:red\"> PYGRDECL based Upscaling notebook </span>"
   ]
  },
  {
   "cell_type": "markdown",
   "metadata": {},
   "source": [
    "## <span style=\"color:blue\"> 1. Create GRDECL ECLIPSE/PETREL Pillar Grid </span>"
   ]
  },
  {
   "cell_type": "code",
   "execution_count": 6,
   "metadata": {},
   "outputs": [
    {
     "name": "stdout",
     "output_type": "stream",
     "text": [
      "     Creating Grid:\n",
      "       Type: CornerPoint Grid\n",
      "       Grid Dimensions (NX,NY,NZ): (50 x 12 x 50)\n",
      "       Number Of Grid Cells: 30000\n",
      "       Created: Fields: ***PERMX***PERMY***PERMZ***PORO***\n"
     ]
    }
   ],
   "source": [
    "from GRDECL2VTK import *\n",
    "\n",
    "# 1.1 Set physical dimensions in physDims (m)\n",
    "physDims=[2000.0,1000,500]\n",
    "\n",
    "# 1.2 Set model grid dimensions in gridDims\n",
    "Nx=50;  Ny=12;  Nz=Nx\n",
    "gridDims=[Nx,Ny,Nz]\n",
    "\n",
    "# 1.3 Set corner point grid options\n",
    "opt=buildCPGGrid_opt(\\\n",
    "disturbed=False,\\\n",
    "flat=True,\\\n",
    "fault_drop=200 , fault_nx=Nx//2)\n",
    "\n",
    "# 1.4 Create empty GeologyModel - Build CPG\n",
    "Model=GeologyModel()\n",
    "Model.buildCPGGrid(physDims,gridDims,opt)\n",
    "\n",
    "# 1.5 Set output name\n",
    "OutputFilePath=\"Results/\"\n",
    "Basefilename=\"PILLAR_Grid\"\n",
    "FileExtension=\"GRDECL\"\n",
    "Model.fname=OutputFilePath+Basefilename + \".\" + FileExtension"
   ]
  },
  {
   "cell_type": "code",
   "execution_count": 7,
   "metadata": {},
   "outputs": [
    {
     "name": "stdout",
     "output_type": "stream",
     "text": [
      "     New variable [Pressure] created with a value of 1.000000!\n",
      "iz: 20\n",
      "[Geometry] Converting GRDECL to Paraview Hexahedron mesh data....\n",
      "     NumOfPoints 240000\n",
      "     NumOfCells 30000\n",
      "     .....Done!\n",
      "[Output] Writing \"Results/PILLAR_Grid.vtu\" Paraview file....Done!\n"
     ]
    },
    {
     "data": {
      "application/vnd.jupyter.widget-view+json": {
       "model_id": "74b6d711b6ab4565ae7cfc07c0dad270",
       "version_major": 2,
       "version_minor": 0
      },
      "text/plain": [
       "Viewer(geometries=[{'vtkClass': 'vtkPolyData', 'points': {'vtkClass': 'vtkPoints', 'name': '_points', 'numberO…"
      ]
     },
     "metadata": {},
     "output_type": "display_data"
    },
    {
     "data": {
      "application/vnd.jupyter.widget-view+json": {
       "model_id": "74b6d711b6ab4565ae7cfc07c0dad270",
       "version_major": 2,
       "version_minor": 0
      },
      "text/plain": [
       "Viewer(geometries=[{'vtkClass': 'vtkPolyData', 'points': {'vtkClass': 'vtkPoints', 'name': '_points', 'numberO…"
      ]
     },
     "metadata": {},
     "output_type": "display_data"
    }
   ],
   "source": [
    "# Compute Pressure for a specified Pressure in a given direction \n",
    "# Direction in : \"ijk\",\"i\",\"j\",\"k\"\n",
    "Press_inj=1 #m^3/s\n",
    "direction=\"i\"\n",
    "Model.compute_TPFA_Pressure(Press_inj,direction,opt )\n",
    "\n",
    "# # Convert to vtk and plot\n",
    "plotter=Model.plot_scalar(\"Pressure\",ITK=True)\n",
    "plotter.show(True)"
   ]
  },
  {
   "cell_type": "code",
   "execution_count": null,
   "metadata": {},
   "outputs": [],
   "source": []
  }
 ],
 "metadata": {
  "kernelspec": {
   "display_name": "Python 3 (ipykernel)",
   "language": "python",
   "name": "python3"
  },
  "language_info": {
   "codemirror_mode": {
    "name": "ipython",
    "version": 3
   },
   "file_extension": ".py",
   "mimetype": "text/x-python",
   "name": "python",
   "nbconvert_exporter": "python",
   "pygments_lexer": "ipython3",
   "version": "3.8.8"
  }
 },
 "nbformat": 4,
 "nbformat_minor": 2
}
