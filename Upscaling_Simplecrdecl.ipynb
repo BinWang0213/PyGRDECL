{
 "cells": [
  {
   "cell_type": "markdown",
   "metadata": {},
   "source": [
    "<img style=\"border:2px solid black;\" src=\"accueil.png\" width=100% border=\"5\"> </center> \n",
    "# <span style=\"color:blue\">Porous Media - Flow modelling tools using Jupyter </span>\n",
    "## <span style=\"color:red\"> PYGRDECL based Upscaling notebook </span>"
   ]
  },
  {
   "cell_type": "markdown",
   "metadata": {},
   "source": [
    "## <span style=\"color:blue\"> 1. Create GRDECL ECLIPSE/PETREL Pillar Grid </span>"
   ]
  },
  {
   "cell_type": "code",
   "execution_count": 1,
   "metadata": {},
   "outputs": [
    {
     "name": "stdout",
     "output_type": "stream",
     "text": [
      "     Creating Grid:\n",
      "       Type: CornerPoint Grid\n",
      "       Grid Dimensions (NX,NY,NZ): (50 x 12 x 50)\n",
      "       Number Of Grid Cells: 30000\n",
      "       Created: Fields: ***PERMX***PERMY***PERMZ***PORO***\n",
      "[CreateCellData] New variable [Pressure] created with a value of 1.000000!\n",
      "iz: 40\n",
      "[Geometry] Converting GRDECL to Paraview Hexahedron mesh data....\n",
      "     NumOfPoints 240000\n",
      "     NumOfCells 30000\n",
      "     .....Done!\n",
      "[Output] Writing \"Results/PILLAR_Grid.vtu\" Paraview file....Done!\n"
     ]
    },
    {
     "data": {
      "application/vnd.jupyter.widget-view+json": {
       "model_id": "a3af586d93af40aab5f9e641322ead6b",
       "version_major": 2,
       "version_minor": 0
      },
      "text/plain": [
       "Viewer(geometries=[{'vtkClass': 'vtkPolyData', 'points': {'vtkClass': 'vtkPoints', 'name': '_points', 'numberO…"
      ]
     },
     "metadata": {},
     "output_type": "display_data"
    },
    {
     "data": {
      "application/vnd.jupyter.widget-view+json": {
       "model_id": "a3af586d93af40aab5f9e641322ead6b",
       "version_major": 2,
       "version_minor": 0
      },
      "text/plain": [
       "Viewer(geometries=[{'vtkClass': 'vtkPolyData', 'points': {'vtkClass': 'vtkPoints', 'name': '_points', 'numberO…"
      ]
     },
     "metadata": {},
     "output_type": "display_data"
    }
   ],
   "source": [
    "from GRDECL2VTK import *\n",
    "\n",
    "# 1.1 Set physical dimensions in physDims (m)\n",
    "physDims=[2000.0,1000,500]\n",
    "\n",
    "# 1.2 Set model grid dimensions in gridDims\n",
    "Nx=50;  Ny=12;  Nz=Nx\n",
    "gridDims=[Nx,Ny,Nz]\n",
    "\n",
    "# 1.3 Set corner point grid options\n",
    "opt=buildCPGGrid_opt(disturbed=False,     flat=True,\\\n",
    "                     fault_drop=400 , fault_nx=Nx//2)\n",
    "\n",
    "# 1.4 Create empty GeologyModel - Build CPG\n",
    "Model=GeologyModel()\n",
    "Model.buildCPGGrid(physDims,gridDims,opt)\n",
    "\n",
    "# 1.5 Compute First TPFA (block centered) Pressure values\n",
    "Model.compute_TPFA_Pressure(Press_inj=1,direction=\"i\",Fault_opt=opt )\n",
    "Model.plot_scalar(\"Pressure\",ITK=True).show()"
   ]
  },
  {
   "cell_type": "markdown",
   "metadata": {},
   "source": [
    "## <span style=\"color:blue\"> 2. Generate  synthetic Porosity/Permeability(mD) values </span>"
   ]
  },
  {
   "cell_type": "code",
   "execution_count": 2,
   "metadata": {},
   "outputs": [
    {
     "name": "stdout",
     "output_type": "stream",
     "text": [
      "[logNormLayers] Filling K and Phi Z layers with log normal distributions\n",
      "[logNormLayers] Done\n",
      "[UpdateListCellData] varname:PORO\n",
      "[UpdateListCellData] varname:PERMX\n",
      "[UpdateListCellData] varname:PERMY\n",
      "[UpdateListCellData] varname:PERMZ\n",
      "[CreateCellData] New variable [Log10PERMX] created with a value of 1.000000!\n",
      "iz: 40\n",
      "[Geometry] Converting GRDECL to Paraview Hexahedron mesh data....\n",
      "     NumOfPoints 240000\n",
      "     NumOfCells 30000\n",
      "     .....Done!\n",
      "[Output] Writing \"Results/PILLAR_Grid.vtu\" Paraview file....Done!\n"
     ]
    },
    {
     "data": {
      "application/vnd.jupyter.widget-view+json": {
       "model_id": "a9e53fd240364196bea4b5f10c10a75a",
       "version_major": 2,
       "version_minor": 0
      },
      "text/plain": [
       "Viewer(geometries=[{'vtkClass': 'vtkPolyData', 'points': {'vtkClass': 'vtkPoints', 'name': '_points', 'numberO…"
      ]
     },
     "metadata": {},
     "output_type": "display_data"
    },
    {
     "data": {
      "application/vnd.jupyter.widget-view+json": {
       "model_id": "a9e53fd240364196bea4b5f10c10a75a",
       "version_major": 2,
       "version_minor": 0
      },
      "text/plain": [
       "Viewer(geometries=[{'vtkClass': 'vtkPolyData', 'points': {'vtkClass': 'vtkPoints', 'name': '_points', 'numberO…"
      ]
     },
     "metadata": {},
     "output_type": "display_data"
    }
   ],
   "source": [
    "from utils import *\n",
    "\n",
    "# 2.1 Create random perm field with normal distribution for each layer\n",
    "K_LayerPerm=[100,1000,400,40,1000,10]\n",
    "K_LayerPerm=[100]\n",
    "# K,phi=logNormLayers(gridDims,K_LayerPerm,poro_const=0.05)\n",
    "K,phi=logNormLayers_basc(gridDims,K_LayerPerm,poro_const=0.05)\n",
    "\n",
    "# 2.2 Update porosity/permeability fields\n",
    "Update_fields=[\"PORO\",\"PERMX\",\"PERMY\",\"PERMZ\"]\n",
    "Update_values=[ phi  , K     , K     , 0.1*K ]\n",
    "Model.UpdateListCellData(var_list=Update_fields,array_list=Update_values)\n",
    "\n",
    "# 2.3 Create Log10 of PERMX for logscale visualization\n",
    "Model.CreateCellData(varname=\"Log10PERMX\",val=1)\n",
    "Model.UpdateCellData(varname=\"Log10PERMX\",array=np.log10(K))#for output at logscale\n",
    "\n",
    "# 2.4 Compute TPFA (block centered) Pressure values\n",
    "Model.compute_TPFA_Pressure(Press_inj=1,direction=\"i\",Fault_opt=opt )\n",
    "Model.plot_scalar(\"Pressure\",ITK=True).show()"
   ]
  },
  {
   "cell_type": "markdown",
   "metadata": {},
   "source": [
    "## <span style=\"color:blue\"> 2.4 Compute TPFA Pressure and visualize it  </span>"
   ]
  },
  {
   "cell_type": "code",
   "execution_count": 4,
   "metadata": {},
   "outputs": [
    {
     "name": "stdout",
     "output_type": "stream",
     "text": [
      "[CreateCellData] New variable [Pressure] created with a value of 1.000000!\n",
      "iz: 40\n",
      "[Geometry] Converting GRDECL to Paraview Hexahedron mesh data....\n",
      "     NumOfPoints 240000\n",
      "     NumOfCells 30000\n",
      "     .....Done!\n",
      "[Output] Writing \"Results/PILLAR_Grid.vtu\" Paraview file....Done!\n"
     ]
    },
    {
     "data": {
      "application/vnd.jupyter.widget-view+json": {
       "model_id": "445a13887e7f41e1b3a84d0229124082",
       "version_major": 2,
       "version_minor": 0
      },
      "text/plain": [
       "Viewer(geometries=[{'vtkClass': 'vtkPolyData', 'points': {'vtkClass': 'vtkPoints', 'name': '_points', 'numberO…"
      ]
     },
     "metadata": {},
     "output_type": "display_data"
    },
    {
     "data": {
      "application/vnd.jupyter.widget-view+json": {
       "model_id": "445a13887e7f41e1b3a84d0229124082",
       "version_major": 2,
       "version_minor": 0
      },
      "text/plain": [
       "Viewer(geometries=[{'vtkClass': 'vtkPolyData', 'points': {'vtkClass': 'vtkPoints', 'name': '_points', 'numberO…"
      ]
     },
     "metadata": {},
     "output_type": "display_data"
    }
   ],
   "source": [
    "# Compute Pressure for a specified Pressure in a given direction \n",
    "# Direction in : \"ijk\",\"i\",\"j\",\"k\"\n",
    "Press_inj=1 #m^3/s\n",
    "direction=\"i\"\n",
    "Model.compute_TPFA_Pressure(Press_inj=1,direction=\"i\",opt )\n",
    "# G,V=Model.computeGradP_V()\n",
    "\n",
    "\n",
    "\n",
    "# # Convert to vtk and plot\n",
    "plotter=Model.plot_scalar(\"Pressure\",ITK=True)\n",
    "plotter.show(True)"
   ]
  },
  {
   "cell_type": "code",
   "execution_count": null,
   "metadata": {},
   "outputs": [],
   "source": []
  }
 ],
 "metadata": {
  "kernelspec": {
   "display_name": "Python 3 (ipykernel)",
   "language": "python",
   "name": "python3"
  },
  "language_info": {
   "codemirror_mode": {
    "name": "ipython",
    "version": 3
   },
   "file_extension": ".py",
   "mimetype": "text/x-python",
   "name": "python",
   "nbconvert_exporter": "python",
   "pygments_lexer": "ipython3",
   "version": "3.8.8"
  }
 },
 "nbformat": 4,
 "nbformat_minor": 2
}
