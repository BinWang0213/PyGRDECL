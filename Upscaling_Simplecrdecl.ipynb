{
 "cells": [
  {
   "cell_type": "markdown",
   "metadata": {},
   "source": [
    "# Upscaling Fine Scale Porous Media Grids for Porous Flow Simulation\n",
    "\n",
    "<table>\n",
    "<tr>   \n",
    "<td><figure>\n",
    "    <img align=\"left\" src=\"img/StreamlineF.png\" width=\"350\"/>\n",
    "    <figcaption>Fine scale streamlines and permeability in X direction</figcaption>\n",
    "    </figure>\n",
    "    </td>\n",
    "<td><figure>    \n",
    "    <img align=\"left\" src=\"img/StreamlineHarm.png\" width=\"350\" />\n",
    "    <figcaption>Coarse scale streamlines and permeability in X direction</figcaption>\n",
    "    </figure>\n",
    "    </td>\n",
    "</tr></table> \n",
    "<br>\n",
    "<table>"
   ]
  },
  {
   "cell_type": "markdown",
   "metadata": {},
   "source": [
    "<details>\n",
    "    <summary><p><font size=\"4\" color=\"navy\"><i> Click here to Show/Hide Introduction and Outline</i></font></p></summary>    \n",
    "    <td><tr>\n",
    "    <p style=\"text-align:center;\"> <font size=\"4\" color=\"black\"><b>This notebook introduces:</b>\n",
    "        <ul><li>Corner Point Grids (CPG)</li>\n",
    "            <li>Permeability tensors and Single Phase Flow in Porous Media</li>\n",
    "            <li>Upscaling of Single Phase Porous Flow Parameters: Porosity and Permeability</li>\n",
    "        </ul> <b>The workflow allows you to:</b></font></p>\n",
    "       <ol style=\"line-height:2;\"><font size=\"4\" color=\"navy\">\n",
    "            <li><p style=\"text-align:left;\"><a href='#1.-Create-a-Geomodel-discretized-by-a-GRDECL-Pillar-Grid' style=\"text-decoration:none\"> Create a Geomodel discretized by a GRDECL Pillar Grid</a></p></li>\n",
    "            <li><p style=\"text-align:left;\"><a href='#2.-Generate-Porosity-and-Permeability-Fields-and-Compute-Single-Phase-Flow' \n",
    "                            style=\"text-decoration:none\"> Generate Porosity and Permeability Fields and Compute Single Phase Flow</a></p></li>\n",
    "            <li><p style=\"text-align:left;\"><a href='#3.-Construct-a-Coarse-Grid' \n",
    "                            style=\"text-decoration:none\"> Construct a Coarse Grid</a></p></li>\n",
    "            <li><p style=\"text-align:left;\"><a href='#4.-Upscale-Permeability' \n",
    "                            style=\"text-decoration:none\"> Upscale Permeability</a></p>\n",
    "           <ul> <font size=\"3\">\n",
    "           <li><p style=\"text-align:left;\"><a href='#&#149;-Power-Averaging-Methods' \n",
    "                            style=\"text-decoration:none\"> Power Averaging Methods</a></p></li>\n",
    "           <li><p style=\"text-align:left;\"><a href='#&#149;-Flow-Based-Methods'\n",
    "                            style=\"text-decoration:none\">Flow Based Methods</a></p></li>\n",
    "               </font></ul></li>\n",
    "       </font></ol>\n",
    "        </tr></td>\n",
    "</table>\n",
    "</details>"
   ]
  },
  {
   "cell_type": "markdown",
   "metadata": {},
   "source": [
    "<p><font size=\"2\" color=\"grey\">\n",
    "  Jupyter notebook Hints: &nbsp &nbsp &nbsp &nbsp To run a cell press [SHIFT + ENTER]. &nbsp &nbsp &nbsp &nbsp To toggle its output press [0] </font>\n",
    "</p>   "
   ]
  },
  {
   "cell_type": "markdown",
   "metadata": {},
   "source": [
    "## 1. Create a Geomodel discretized by a GRDECL Pillar Grid"
   ]
  },
  {
   "cell_type": "markdown",
   "metadata": {},
   "source": [
    "<details>\n",
    "<summary><p><font size=\"4\" color=\"navy\"> Click here to Show/Hide Information about Corner Point Grids (CPG)</font></p></summary>\n",
    "<table><tr> \n",
    "        <td><img align=\"left\"  src=\"img/corner_point_grid.png\" width=\"350\" /> <figcaption>Figure 1</figcaption></td>  \n",
    "        <td><p style=\"text-align:left;\"><font size=\"3\" color=\"navy\">\n",
    "            <b>Corner Point Grids (CPG):</b><br>\n",
    "                CPG can be seen as Modified Cartesian Grids with modifications allowing to obtain more flexible and Less Structured Grids. \n",
    "        \t\tThey are made of hexaedra set on vertical Pillars (<font color=\"red\">red lines</font> in Figure 1) where:\n",
    "        \t\t<ul>\n",
    "           \t\t\t<li><p style=\"text-align:left;\">Each Pillar corresponds to a node of an inital 2D Planar Grid ({ [I, J], I $\\in$ {0,2} , J $\\in$ {0,1} } in Figure 1) </p></li>\n",
    "                    <li><p style=\"text-align:left;\">Each Hexaedron  [I,J,K] is set on its 4 surrounding pillars { [I+i, J+j], i,j $\\in$ {0,1} }</p></li>\n",
    "               \t\t<li><p style=\"text-align:left;\">The 8 corners of an hexaedron can slide independently on its 4  pillars</p></li>                    \n",
    "               \t</ul>\n",
    "               <p style=\"text-align:left;\"><b> Vertical sliding allows to introduce faulting and non orthogonal shapes in CPG  </b></p></font>\n",
    "        </p></td>\n",
    "</tr></table>\n",
    "<p><font size=\"3\" color=\"navy\"><b>This section provides instructions to Create/Visualize a CPG. <br> Four examples are detailed in the figure below (Figure 2). Similarly you can generate your own CPG by setting this parameters:</b></font></p>\n",
    "<br> \n",
    "<img align=\"center\" src=\"img/GRDECL_simplDisturbed3.png\" width=\"1000\"/><figcaption>Figure 2</figcaption>\n",
    "<br>\n",
    " \n",
    "<p style=\"text-align:right;\"><a href='#Upscaling-Fine-Scale-Porous-Media-Grids-for-Porous-Flow-Simulation'>Go to the Table of contents</a></p>\n",
    "</details>"
   ]
  },
  {
   "cell_type": "code",
   "execution_count": 7,
   "metadata": {},
   "outputs": [
    {
     "name": "stdout",
     "output_type": "stream",
     "text": [
      "     Creating Grid:\n",
      "       Type: CornerPoint Grid\n",
      "       Grid Dimensions (NX,NY,NZ): (20 x 20 x 20)\n",
      "       Number Of Grid Cells: 8000\n",
      "       Created: Fields: ***PERMX***PERMY***PERMZ***PORO***\n",
      "[Geometry] Converting GRDECL to Paraview Hexahedron mesh data....\n",
      "     NumOfPoints 64000\n",
      "     NumOfCells 8000\n",
      "     .....Done!\n",
      "[Output] Writing \"Results\\PILLAR_Grid.vtu\" Paraview file....Done!\n"
     ]
    },
    {
     "data": {
      "application/vnd.jupyter.widget-view+json": {
       "model_id": "ee9529e190724db18bae422216bc7e0a",
       "version_major": 2,
       "version_minor": 0
      },
      "text/plain": [
       "Viewer(geometries=[{'vtkClass': 'vtkPolyData', 'points': {'vtkClass': 'vtkPoints', 'name': '_points', 'numberO…"
      ]
     },
     "metadata": {},
     "output_type": "display_data"
    },
    {
     "data": {
      "application/vnd.jupyter.widget-view+json": {
       "model_id": "ee9529e190724db18bae422216bc7e0a",
       "version_major": 2,
       "version_minor": 0
      },
      "text/plain": [
       "Viewer(geometries=[{'vtkClass': 'vtkPolyData', 'points': {'vtkClass': 'vtkPoints', 'name': '_points', 'numberO…"
      ]
     },
     "metadata": {},
     "output_type": "display_data"
    }
   ],
   "source": [
    "from GRDECL2VTK import *\n",
    "from utils import *\n",
    "\n",
    "# 1.1 Set physical dimensions in physDims (m)\n",
    "physDims=[2000.,1000.,500.]\n",
    "\n",
    "# 1.2 Set model grid dimensions in gridDims\n",
    "Nx=20;  Ny=Nx;  Nz=Nx\n",
    "gridDims=[Nx,Ny,Nz]\n",
    "\n",
    "# 1.3 Set corner point grid options: Disturbed pillars, Flat Grid, Fault \n",
    "opt=buildCPGGrid_opt(\\\n",
    "disturbed=False,\\\n",
    "flat=True,\\\n",
    "fault_drop=physDims[2]*0.5,\\\n",
    "fault_nx=Nx//2)\n",
    "\n",
    "# 1.4 Create empty GeologyModel - Build CPG\n",
    "Model=GeologyModel()\n",
    "Model.buildCPGGrid(physDims,gridDims,opt)\n",
    "\n",
    "# 1.5 Visualize Geometry and check initial parameters\n",
    "Model.plot_scalar(\"PERMX\",add_log_scale=True).show(show_edges=True)"
   ]
  },
  {
   "cell_type": "markdown",
   "metadata": {},
   "source": [
    "## 2. Generate Porosity and Permeability Fields and Compute Single Phase Flow"
   ]
  },
  {
   "cell_type": "markdown",
   "metadata": {},
   "source": [
    "<details>\n",
    "    <summary><p><font size=\"4\" color=\"navy\"><i> Click here to Show/Hide Information about Permeability and Pressure computation</i></font></p></summary>\n",
    "<table><tr> \n",
    "        <td><img align=\"left\"  src=\"img/darcy\" width=\"1000\" /> <figcaption>Figure 1</figcaption></td>  \n",
    "        <td><p style=\"text-align:left;\"><font size=\"3\" color=\"navy\">\n",
    "            <b>Absolute Permeability $K$:</b><br>\n",
    "                Permeability (H.Darcy, 1856) is the ability of a porous medium to conduct fluids in its interconnected pores. The absolute permeability controls fluid flow rates depending on considered directions. It is a second order tensor $\\left(\\overline{\\overline K}\\right)$with lognormal distributed components. In many practical situation it is assumed to be transversaly isotropic (horizontally isotropic):\n",
    "            $\\begin{pmatrix}K_H & 0 & 0\\\\0 & K_H & 0 \\\\ 0 & 0 & K_V\\end{pmatrix} \\quad (K_H>K_V)$\n",
    "            </font></p></td>\n",
    "</tr></table> \n",
    "<table><tr> \n",
    "        <td><img align=\"left\"  src=\"img/TPFA_drops.png\" width=\"750\" /> <figcaption>Figure 2</figcaption></td>  \n",
    "        <td><p style=\"text-align:left;\"><font size=\"3\" color=\"navy\">\n",
    "            <b>Single Phase Flow Equation:</b><br>\n",
    "            The pressure equation, for a steady single phase Darcy flow with incompressible fluid and rock  and no gravity, follows:\n",
    "\n",
    "$\\begin{equation}\n",
    "\\left\\lbrace \n",
    "\\begin{array}{ll}  \n",
    "\\vec{v} &=-\\frac{K}{\\mu} \\nabla P \\\\ \n",
    "\\nabla \\ldotp \\left(\\rho \\vec{v} \\right) &=q \n",
    "\\end{array}\n",
    "\\right. \n",
    "\\label{eq:1}\n",
    "\\end{equation}$\n",
    "<br>          \n",
    "For our single phase upscaling tests we use its simplified version:\n",
    "\n",
    "$\\begin{equation}\n",
    "\\left\\lbrace \n",
    "\\begin{array}{cll}  \n",
    "\\nabla \\ldotp \\left(-K \\nabla P \\right) &=0 \\qquad &in \\: \\Omega\\\\ \n",
    "P&=P_0  \\qquad &in \\:  \\Gamma_{Dir}\\\\\n",
    "K \\nabla P\\cdot n&=0 &in \\:  \\Gamma_{Neum}\\\\\n",
    "\\end{array}\n",
    "\\right.\n",
    "\\end{equation}$<br>\n",
    "            This equation is solved numerically using a  Two Point Flux Approximation (TPFA) Solver (Pressure Solutions for faulted and non faulted configurations are shown in Figure2). \n",
    "            </font></p></td>\n",
    "</tr></table>          \n",
    "    <p><font size=\"4\" color=\"navy\">This section provides instructions to:\n",
    "    <ol>\n",
    "        <li>Generate and Visualize porosities and LogNormal permeabilities distributions (transversely isotropic) for:\n",
    "        <ul><li>Horizontally Layered distributions</li>\n",
    "            <li>Basculed Layered distributions</li>\n",
    "            <li>A mix of Horizontal and Basculed Layered distributions</li></ul></li>\n",
    "        <li>Compute and Visualize pressure  and flow streamlines (TPFA solver, K-orthogonal CPG)</li> \n",
    "    </ol></font>\n",
    "<table>\n",
    "    <td><img align=\"center\" src=\"img/layered_basculed_K50.png\" width=\"500\"/></td>\n",
    "    <td><img align=\"center\" src=\"img/layered_basculed_PV50.png\" width=\"600\"/> </td>\n",
    "</table>\n",
    "<p style=\"text-align:right;\"><a href='#Upscaling-Fine-Scale-Porous-Media-Grids-for-Porous-Flow-Simulation'>Go to the Table of contents</a></p>\n",
    "</details>    "
   ]
  },
  {
   "cell_type": "code",
   "execution_count": 8,
   "metadata": {
    "scrolled": false
   },
   "outputs": [
    {
     "name": "stdout",
     "output_type": "stream",
     "text": [
      "[logNormLayers] Filling K and Phi Z layers with log normal distributions\n",
      "[UpdateListCellData] varname:PORO\n",
      "[UpdateListCellData] varname:PERMX\n",
      "[UpdateListCellData] varname:PERMY\n",
      "[UpdateListCellData] varname:PERMZ\n"
     ]
    },
    {
     "data": {
      "image/png": "[encoded data removed]",
      "text/plain": [
       "<Figure size 720x360 with 1 Axes>"
      ]
     },
     "metadata": {},
     "output_type": "display_data"
    },
    {
     "data": {
      "image/png": "[encoded data removed]",
      "text/plain": [
       "<Figure size 720x360 with 1 Axes>"
      ]
     },
     "metadata": {},
     "output_type": "display_data"
    },
    {
     "name": "stdout",
     "output_type": "stream",
     "text": [
      "[Geometry] Converting GRDECL to Paraview Hexahedron mesh data....\n",
      "     NumOfPoints 64000\n",
      "     NumOfCells 8000\n",
      "     .....Done!\n",
      "[Output] Writing \"Results\\PILLAR_Grid.vtu\" Paraview file....Done!\n"
     ]
    },
    {
     "data": {
      "application/vnd.jupyter.widget-view+json": {
       "model_id": "cd820d1498fd45359bff0a6db11cf22d",
       "version_major": 2,
       "version_minor": 0
      },
      "text/plain": [
       "Viewer(geometries=[{'vtkClass': 'vtkPolyData', 'points': {'vtkClass': 'vtkPoints', 'name': '_points', 'numberO…"
      ]
     },
     "metadata": {},
     "output_type": "display_data"
    },
    {
     "name": "stdout",
     "output_type": "stream",
     "text": [
      "[Geometry] Converting GRDECL to Paraview Hexahedron mesh data....\n",
      "     NumOfPoints 64000\n",
      "     NumOfCells 8000\n",
      "     .....Done!\n",
      "[Output] Writing \"Results\\PILLAR_Grid.vtu\" Paraview file....Done!\n"
     ]
    },
    {
     "data": {
      "application/vnd.jupyter.widget-view+json": {
       "model_id": "c21271f79ed8418b9e649c1cccb68a8d",
       "version_major": 2,
       "version_minor": 0
      },
      "text/plain": [
       "ViewInteractiveWidget(height=768, layout=Layout(height='auto', width='100%'), width=1024)"
      ]
     },
     "metadata": {},
     "output_type": "display_data"
    }
   ],
   "source": [
    "# 2.1 Set list of vertical permeability values\n",
    "K_LayerPerm=[100,10]*2 # produces layers: [100,10,100,10] (mD)\n",
    "\n",
    "# 2.2 Fill grid with permeability from the previous list \n",
    "# Choose one of the 3 possibilities\n",
    "K,phi=logNormLayers(gridDims,K_LayerPerm,poro_const=0.05)\n",
    "# K,phi=logNormLayers_basc(gridDims,K_LayerPerm,poro_const=0.05)\n",
    "# K,phi=logNormLayers_mixed_basc_horiz(gridDims,K_LayerPerm,poro_const=0.05,Zcut_ratio=0.25)\n",
    "\n",
    "# 2.3 Update porosity/permeability diagonal components with generated grid values\n",
    "# We use transversaly isotropic values with K_V=K_H/100\n",
    "Update_fields=[\"PORO\",\"PERMX\",\"PERMY\",\"PERMZ\"]\n",
    "Update_values=[ phi  , K     , K     , 0.01*K ]\n",
    "Model.UpdateListCellData(var_list=Update_fields,array_list=Update_values)\n",
    "\n",
    "# 2.4 Visualize Fine scale histograms\n",
    "for scalar in [\"PORO\",\"PERMX\"]:\n",
    "    Model.GRDECL_Data.Plot_hist(scalar,text=\"Fine scale\")\n",
    "\n",
    "# 2.5 Compute TPFA Pressure values\n",
    "Model.compute_TPFA_Pressure(Press_inj=1,direction=\"ijk\",Fault_opt=opt)\n",
    "\n",
    "# 2.6 Visualize P and V\n",
    "Model.plot_scalar(\"PERMX\",ITK=True).show()\n",
    "pl=Model.plot_streamlines(notebook=True, scalar=\"PERMXLOG10\").show()"
   ]
  },
  {
   "cell_type": "markdown",
   "metadata": {},
   "source": [
    "##  3. Construct a Coarse Grid\n",
    "<p style=\"text-align:right;\"><a href='#Upscaling-Fine-Scale-Porous-Media-Grids-for-Porous-Flow-Simulation'>Go to the Table of contents</a></p>"
   ]
  },
  {
   "cell_type": "markdown",
   "metadata": {},
   "source": [
    "<details>\n",
    "    <summary><p><font size=\"4\" color=\"navy\"><i> Click here to Show/Hide Information about Coarse Grid Generation for the Upscaling Tests</i></font></p></summary>\n",
    "<table><tr> \n",
    "        <td><img align=\"left\"  src=\"img/Partitioning.png\" width=\"1500\" /> <figcaption>Figure 1</figcaption></td>  \n",
    "        <td><p style=\"text-align:left;\"><font size=\"3\" color=\"navy\">\n",
    "            <b>Grid Coarsening:</b><br>\n",
    "                We create a coarser grid by partitoning the initial grid. To do so we divide the initial grid in each direction. Each grid dimensions $N_X,\\: N_Y,\\: N_Z$ is divided by the scaling factors $r_x,\\: r_y,\\: r_z$. Depending on remainders it produces coarse cells of size  $r_x\\times r_y \\times r_z$ or smaller cells. We can observe in Figure 1 that the coarse cells which are not contiguous to the fault have size $5\\times 11 \\times 11$ and that near the fault the other coarse cells have size $6\\times 11 \\times 11$  avoiding size $1\\times 11 \\times 11$ coarse cells. \n",
    "            </font></p></td>\n",
    "</tr></table>          \n",
    "    <p><font size=\"4\" color=\"navy\">This section provides instructions to:\n",
    "    <ol>\n",
    "        <li>Set coarsening factors </li>\n",
    "        <li>Create the Coarse Grid and upscale porosity (arithmetic averaging)</li>\n",
    "        <li>Print the list of all the upscaling methods implemented  in this notebook\"</li>\n",
    "    </ol></font>\n",
    "<p style=\"text-align:right;\"><a href='#Upscaling-Fine-Scale-Porous-Media-Grids-for-Porous-Flow-Simulation'>Go to the Table of contents</a></p>\n",
    "</details>    "
   ]
  },
  {
   "cell_type": "code",
   "execution_count": 9,
   "metadata": {},
   "outputs": [
    {
     "name": "stdout",
     "output_type": "stream",
     "text": [
      "[Partioning] Partitoning from Fine grid of size: [20,20,20] to Coarse grid of size: [4,4,4]\n"
     ]
    },
    {
     "data": {
      "image/png": "[encoded data removed]",
      "text/plain": [
       "<Figure size 720x360 with 1 Axes>"
      ]
     },
     "metadata": {},
     "output_type": "display_data"
    },
    {
     "name": "stdout",
     "output_type": "stream",
     "text": [
      "['Upscale_Arithmetic_mean', 'Upscale_Geometric_mean', 'Upscale_Harmonic_mean', 'Upscale_Harmx_mean', 'Upscale_Harmy_mean', 'Upscale_Harmz_mean', 'Upscale_Perm', 'Upscale_TPFA_glob', 'Upscale_TPFA_loc', 'Upscale_TPFA_loc_vol_average']\n"
     ]
    }
   ],
   "source": [
    "# 3.1 Set coarsening factor (grid dimensions of coarse cells)\n",
    "Model.GRDECL_Data.coarse2fine_ratio=[5]*3\n",
    "\n",
    "# 3.2 Create coarse grid and upscale porosity\n",
    "Model2=Model.create_coarse_model()\n",
    "\n",
    "# List of implemented upscaling methods\n",
    "print(Model.Upscaler.list_upscale_methods())"
   ]
  },
  {
   "cell_type": "markdown",
   "metadata": {},
   "source": [
    "##  4. Upscale Permeability"
   ]
  },
  {
   "cell_type": "markdown",
   "metadata": {},
   "source": [
    "<details>\n",
    "    <summary><p><font size=\"4\" color=\"navy\"><i> Click here to Show/Hide Information about Upscaling Methods</i></font></p></summary>\n",
    "<table>\n",
    "<tr>   \n",
    "<td><figure>\n",
    "    <img align=\"left\" src=\"img/StreamlineF.png\" width=\"250\"/>\n",
    "    <figcaption>Fine scale</figcaption>\n",
    "    </figure>\n",
    "    </td>\n",
    "<td><figure>    \n",
    "    <img align=\"left\" src=\"img/StreamlineHarm.png\" width=\"250\" />\n",
    "    <figcaption>Coarse scale</figcaption>\n",
    "    </figure>\n",
    "    </td>\n",
    "</tr></table> \n",
    "<br>\n",
    "<table>    \n",
    "<table><tr> <td><p style=\"text-align:left;\"><font size=\"3\" color=\"navy\">\n",
    "            <b>What is the aim of Permeability Upscaling?</b><br>\n",
    "               We consider the fine scale pressure equation:\n",
    "$\\begin{equation}\n",
    " \\nabla \\ldotp \\left(-K(X_F)\\nabla P_F \\right) =0 \n",
    " \\label{eq:fineScale}\n",
    "\\end{equation}$\n",
    " This equation is initially defined for $X_F$  the fine scale discrete  values of X.\n",
    " We also consider the coarse scale pressure equation:\n",
    "$ \\begin{equation}\n",
    "\\nabla \\ldotp \\left(-K^*(X_C)\\nabla P_C \\right) =0\n",
    "\\label{ex:coarseScale}\n",
    " \\end{equation}$\n",
    " In which the fine scale permeability $K$ defined for $X_F$ fine scale grid values must be replaced by the $K^*$ coarse scale permeability defined at the coarse scale in order to recover at the coarser scale the same flow characteristics. <br>More precisely $-K^*(X_C)\\nabla P_C$  must recover $-K(X_F)\\nabla P_F $ values at the coarse scale.\n",
    "</font></p></td>\n",
    "</tr></table>          \n",
    "    <p><font size=\"4\" color=\"navy\">This section allows to test two types of permeability upscaling strategies:\n",
    "    <ol>\n",
    "        <li>Power Averaging methods </li>\n",
    "        <li>Flow Based methods</li>\n",
    "    </ol></font>\n",
    "<p style=\"text-align:right;\"><a href='#Upscaling-Fine-Scale-Porous-Media-Grids-for-Porous-Flow-Simulation'>Go to the Table of contents</a></p>\n",
    "</details>    "
   ]
  },
  {
   "cell_type": "markdown",
   "metadata": {
    "pycharm": {
     "name": "#%% md\n"
    }
   },
   "source": [
    "### &#149; Power Averaging Methods\n",
    "<p style=\"text-align:right;\"><a href='#Upscaling-Fine-Scale-Porous-Media-Grids-for-Porous-Flow-Simulation'>Go to the Table of contents</a></p>\n"
   ]
  },
  {
   "cell_type": "markdown",
   "metadata": {
    "pycharm": {
     "name": "#%% md\n"
    }
   },
   "source": [
    "<details>\n",
    "    <summary><p><font size=\"4\" color=\"navy\"><i> Click here to Show/Hide Information about Power Averaging based Upscaling Methods</i></font></p></summary>    \n",
    "<table><tr> <td><p style=\"text-align:left;\"><font size=\"3\" color=\"navy\">\n",
    "            <b>Power Averaging Methods:</b><br>\n",
    "Power averaging  techniques were introduced by Deutsch(1989). They give the simplest and fastest way to obtain coarse scale permeabilities.  Permeability is considered as a diagonal tensor and each of its components is averaged using the power averaging formula: <br>\n",
    "$\\begin{equation}\n",
    "<K_i>_{w_i}=\\left( \\frac{1}{\\left| V_C\\right|} \\int_{V_C } \\left[  K_i\\right]^{w_i }   dX   \\right)^\\frac{1}{w_i},\\qquad i\\in \\left\\lbrace 1,\\:2,\\:3 \\right\\rbrace\n",
    "\\end{equation}$<br>\n",
    "where $i$ is the index of a permeability component, $V_C$ is the coarse cell bulk volume and $w_i$ a chosen power averaging exponent.<br> The power averaging exponent $w_i$ must lie between $-1$ and $1$ who correspond respectively to the harmonic and arithmetic averaging formula. These two averaging formula are the analytic upscaled permeability solutions of layered systems with parallel or orthogonal flow orientations (arithmetic for parallel flow and harmonic for orthogonal one). The limit case where exponent $w_i \\to 0$   corresponds to the geometric averaging and its formula can be expressed as:<br>\n",
    "$\\begin{equation}\n",
    "<K_i>_{0}=exp\\left(\\frac{1}{\\left| V_C\\right|}  \\int_{V_C} log\\left[  K_i\\right]   dX   \\right)\n",
    "\\label{eq:PowerAvg2}\n",
    "\\end{equation}$<br>\n",
    "  We implemented 6 power averaging strategies: an arithmetic, a geometric, an harmonic method and 3 partially harmonic-arithmetic methods which are harmonic in one direction and arithmetic in the 2 others: harmx, harmy and harmz.    \n",
    "</font></p></td>\n",
    "</tr></table>          \n",
    "    <p><font size=\"4\" color=\"navy\">This section allows to:\n",
    "        <ol>\n",
    "            <li> Test these strategies on each component of the Permeability tensor (transversaly isotropic here)</li>\n",
    "             <li>Compute and Visualize pressure  and flow streamlines (TPFA solver, K-orthogonal CPG)</li> \n",
    "    </ol> </font>\n",
    "<p style=\"text-align:right;\"><a href='#Upscaling-Fine-Scale-Porous-Media-Grids-for-Porous-Flow-Simulation'>Go to the Table of contents</a></p>\n",
    "</details>    "
   ]
  },
  {
   "cell_type": "code",
   "execution_count": 10,
   "metadata": {
    "collapsed": true,
    "pycharm": {
     "name": "#%%\n"
    }
   },
   "outputs": [
    {
     "data": {
      "image/png": "[encoded data removed]",
      "text/plain": [
       "<Figure size 720x360 with 1 Axes>"
      ]
     },
     "metadata": {},
     "output_type": "display_data"
    },
    {
     "data": {
      "image/png": "[encoded data removed]",
      "text/plain": [
       "<Figure size 720x360 with 1 Axes>"
      ]
     },
     "metadata": {},
     "output_type": "display_data"
    },
    {
     "data": {
      "image/png": "[encoded data removed]",
      "text/plain": [
       "<Figure size 720x360 with 1 Axes>"
      ]
     },
     "metadata": {},
     "output_type": "display_data"
    },
    {
     "name": "stdout",
     "output_type": "stream",
     "text": [
      "[Geometry] Converting GRDECL to Paraview Hexahedron mesh data....\n",
      "     NumOfPoints 512\n",
      "     NumOfCells 64\n",
      "     .....Done!\n",
      "[Output] Writing \"Results\\PILLAR_Grid_Coarse.vtu\" Paraview file....Done!\n"
     ]
    },
    {
     "data": {
      "application/vnd.jupyter.widget-view+json": {
       "model_id": "3e584da384eb42bba6be48059d3b4dc0",
       "version_major": 2,
       "version_minor": 0
      },
      "text/plain": [
       "Viewer(geometries=[{'vtkClass': 'vtkPolyData', 'points': {'vtkClass': 'vtkPoints', 'name': '_points', 'numberO…"
      ]
     },
     "metadata": {},
     "output_type": "display_data"
    },
    {
     "name": "stdout",
     "output_type": "stream",
     "text": [
      "[Geometry] Converting GRDECL to Paraview Hexahedron mesh data....\n",
      "     NumOfPoints 512\n",
      "     NumOfCells 64\n",
      "     .....Done!\n",
      "[Output] Writing \"Results\\PILLAR_Grid_Coarse.vtu\" Paraview file....Done!\n"
     ]
    },
    {
     "data": {
      "application/vnd.jupyter.widget-view+json": {
       "model_id": "372a896fd2ba4f93970c90b510765b6c",
       "version_major": 2,
       "version_minor": 0
      },
      "text/plain": [
       "ViewInteractiveWidget(height=768, layout=Layout(height='auto', width='100%'), width=1024)"
      ]
     },
     "metadata": {},
     "output_type": "display_data"
    }
   ],
   "source": [
    "# 3.3 Set Power Averaging Upscaling methods\n",
    "Model.Upscale_Perm(['Harmx_mean','Harmy_mean','Harmz_mean'])\n",
    "\n",
    "# 3.3 Compute Pressure for coarse model\n",
    "Model2.compute_TPFA_Pressure(Press_inj=1,direction=\"ijk\",Fault_opt=opt)\n",
    "# # Model.two_plots_scalar(\"Pressure\").show(False)\n",
    "Model2.plot_scalar(\"PERMX\",add_log_scale=True).show()\n",
    "\n",
    "Model2.plot_streamlines(notebook=True, scalar=\"V\").show()"
   ]
  },
  {
   "cell_type": "markdown",
   "metadata": {
    "pycharm": {
     "name": "#%% md\n"
    }
   },
   "source": [
    "### &#149; Flow Based Methods\n",
    "<p style=\"text-align:right;\"><a href='#Upscaling-Fine-Scale-Porous-Media-Grids-for-Porous-Flow-Simulation'>Go to the Table of contents</a></p>"
   ]
  },
  {
   "cell_type": "markdown",
   "source": [
    "<details>\n",
    "    <summary><p><font size=\"4\" color=\"navy\"> <i>Click here to Show/Hide Information about Flow Based Upscaling Methods</i></font></p></summary>\n",
    "    \n",
    "<table><tr><td><img align=\"left\"  src=\"img/BC.png\" width=\"2500\" /> <figcaption>Figure 1</figcaption></td> \n",
    "           <td><p style=\"text-align:left;\"><font size=\"3\" color=\"navy\">\n",
    "            <b>Flow Based Methods:</b><br>\n",
    "The first implemented flow based methods was introduced as a local flow upscaling method by Warren and Price in 1961. It consists in solving for each coarse cell three  times the single phase pressure equation with fixed pressure boundary conditions (BC) in one direction and no flow in the two others. Figure 1 shows the chosen boundary conditions. For one direction  we set a constant pressure gradient. The pressure is set at 1 (Pa) on the left boundary and at 0 at the right boundary (Dirichlet BC) and there is no flow through the other boundaries. \n",
    "\n",
    "</font></p></td></tr></table>         \n",
    "    <p><font size=\"4\" color=\"navy\">This section allows to test 3 methods based on this local flow method:\n",
    "        <ol>\n",
    "            <li> A local flow method using the total flux through Dirichlet boundaries</li>\n",
    "            <li>A local flow method using volume averaged pressure gradients and velocities on each coarse cell</li>\n",
    "             <li>A global flow method using the total flux through coarse faces</li> </ol> \n",
    "            Furthermore for all the local methods:\n",
    "            <ul><li>The coarse cells can be extended with fine layers around it</li>\n",
    "                <li>The lateral boundary conitions can be set to constant linear pressure gradient</li>\n",
    "            </ul>      \n",
    "        </font></p>\n",
    "    \n",
    "<p style=\"text-align:right;\"><a href='#Upscaling-Fine-Scale-Porous-Media-Grids-for-Porous-Flow-Simulation'>Go to the Table of contents</a></p>\n",
    "</details>    "
   ],
   "metadata": {
    "collapsed": false
   }
  },
  {
   "cell_type": "code",
   "execution_count": null,
   "outputs": [],
   "source": [
    "# List of implemented upscaling methods\n",
    "print(Model.Upscaler.list_upscale_methods())"
   ],
   "metadata": {
    "collapsed": false,
    "pycharm": {
     "name": "#%%\n"
    }
   }
  },
  {
   "cell_type": "code",
   "execution_count": null,
   "outputs": [],
   "source": [
    "# 3.3 Flow Based Upscaling\n",
    "Model.Upscaler.nlayer=0\n",
    "Model.Upscaler.Lin_BC=True\n",
    "Model.Upscale_Perm('TPFA_loc_vol_average')\n",
    "\n",
    "# 3.3 Compute Pressure for coarse model\n",
    "Model2.compute_TPFA_Pressure(Press_inj=1,direction=\"ijk\",Fault_opt=opt )\n",
    "# # Model.two_plots_scalar(\"Pressure\").show(False)\n",
    "Model2.plot_scalar(\"Pressure\").show()\n",
    "Model.plot_streamlines(notebook=True, scalar=\"V\").show()"
   ],
   "metadata": {
    "collapsed": false,
    "pycharm": {
     "name": "#%%\n"
    }
   }
  },
  {
   "cell_type": "markdown",
   "metadata": {},
   "source": [
    "# 3.3 Upscaling\n",
    "Model.Upscaler.nlayer=0\n",
    "Model.Upscaler.Lin_BC=False\n",
    "Model.Upscale_Perm('TPFA_glob')\n",
    "\n",
    "# 3.3 Compute Pressure for coarse model\n",
    "Model2.compute_TPFA_Pressure(Press_inj=1,direction=\"ijk\",Fault_opt=opt )\n",
    "# # Model.two_plots_scalar(\"Pressure\").show(False)\n",
    "# Model2.plot_scalar(\"Pressure\").show()\n",
    "Model.plot_streamlines(notebook=True, scalar=\"V\").show()"
   ]
  },
  {
   "cell_type": "code",
   "execution_count": 12,
   "metadata": {},
   "outputs": [
    {
     "name": "stdout",
     "output_type": "stream",
     "text": [
      "['Upscale_Arithmetic_mean', 'Upscale_Geometric_mean', 'Upscale_Harmonic_mean', 'Upscale_Harmx_mean', 'Upscale_Harmy_mean', 'Upscale_Harmz_mean', 'Upscale_Perm', 'Upscale_TPFA_glob', 'Upscale_TPFA_loc', 'Upscale_TPFA_loc_vol_average']\n"
     ]
    }
   ],
   "source": [
    "# List of implemented upscaling methods\n",
    "print(Model.Upscaler.list_upscale_methods())"
   ]
  },
  {
   "cell_type": "code",
   "execution_count": 14,
   "metadata": {},
   "outputs": [
    {
     "name": "stdout",
     "output_type": "stream",
     "text": [
      "[UPSCALING TPFA loc volume average], nlayer: 0\n",
      "Local computations for coarse cell: 64 / 64 \r"
     ]
    },
    {
     "data": {
      "image/png": "[encoded data removed]",
      "text/plain": [
       "<Figure size 720x360 with 1 Axes>"
      ]
     },
     "metadata": {},
     "output_type": "display_data"
    },
    {
     "name": "stdout",
     "output_type": "stream",
     "text": [
      "[Geometry] Converting GRDECL to Paraview Hexahedron mesh data....\n",
      "     NumOfPoints 512\n",
      "     NumOfCells 64\n",
      "     .....Done!\n",
      "[Output] Writing \"Results\\PILLAR_Grid_Coarse.vtu\" Paraview file....Done!\n"
     ]
    },
    {
     "data": {
      "application/vnd.jupyter.widget-view+json": {
       "model_id": "d6e3d50075cf4fe4a800affa06163adb",
       "version_major": 2,
       "version_minor": 0
      },
      "text/plain": [
       "Viewer(geometries=[{'vtkClass': 'vtkPolyData', 'points': {'vtkClass': 'vtkPoints', 'name': '_points', 'numberO…"
      ]
     },
     "metadata": {},
     "output_type": "display_data"
    },
    {
     "name": "stdout",
     "output_type": "stream",
     "text": [
      "[Geometry] Converting GRDECL to Paraview Hexahedron mesh data....\n",
      "     NumOfPoints 64000\n",
      "     NumOfCells 8000\n",
      "     .....Done!\n",
      "[Output] Writing \"Results\\PILLAR_Grid.vtu\" Paraview file....Done!\n"
     ]
    },
    {
     "data": {
      "application/vnd.jupyter.widget-view+json": {
       "model_id": "3aaf03fec16a4123af1a0510edf3d0b7",
       "version_major": 2,
       "version_minor": 0
      },
      "text/plain": [
       "ViewInteractiveWidget(height=768, layout=Layout(height='auto', width='100%'), width=1024)"
      ]
     },
     "metadata": {},
     "output_type": "display_data"
    }
   ],
   "source": [
    "# 3.3 Flow Based Upscaling\n",
    "Model.Upscaler.nlayer=0\n",
    "Model.Upscaler.Lin_BC=True\n",
    "Model.Upscale_Perm('TPFA_loc_vol_average')\n",
    "\n",
    "# 3.3 Compute Pressure for coarse model\n",
    "Model2.compute_TPFA_Pressure(Press_inj=1,direction=\"ijk\",Fault_opt=opt )\n",
    "# # Model.two_plots_scalar(\"Pressure\").show(False)\n",
    "Model2.plot_scalar(\"Pressure\").show()\n",
    "Model.plot_streamlines(notebook=True, scalar=\"V\").show()"
   ]
  },
  {
   "cell_type": "code",
   "execution_count": 9,
   "metadata": {},
   "outputs": [
    {
     "data": {
      "image/png": "[encoded data removed]",
      "text/plain": [
       "<Figure size 720x360 with 1 Axes>"
      ]
     },
     "metadata": {},
     "output_type": "display_data"
    },
    {
     "name": "stdout",
     "output_type": "stream",
     "text": [
      "[Geometry] Converting GRDECL to Paraview Hexahedron mesh data....\n",
      "     NumOfPoints 8000\n",
      "     NumOfCells 1000\n",
      "     .....Done!\n",
      "[Output] Writing \"Results\\PILLAR_Grid.vtu\" Paraview file....Done!\n"
     ]
    },
    {
     "data": {
      "application/vnd.jupyter.widget-view+json": {
       "model_id": "8fd9c11c4b954e45aae0fa7e83bb0288",
       "version_major": 2,
       "version_minor": 0
      },
      "text/plain": [
       "ViewInteractiveWidget(height=768, layout=Layout(height='auto', width='100%'), width=1024)"
      ]
     },
     "metadata": {},
     "output_type": "display_data"
    }
   ],
   "source": [
    "# 3.3 Upscaling\n",
    "Model.Upscaler.nlayer=0\n",
    "Model.Upscaler.Lin_BC=False\n",
    "Model.Upscale_Perm('TPFA_glob')\n",
    "\n",
    "# 3.3 Compute Pressure for coarse model\n",
    "Model2.compute_TPFA_Pressure(Press_inj=1,direction=\"ijk\",Fault_opt=opt )\n",
    "# # Model.two_plots_scalar(\"Pressure\").show(False)\n",
    "# Model2.plot_scalar(\"Pressure\").show()\n",
    "Model.plot_streamlines(notebook=True, scalar=\"V\").show()"
   ]
  }
 ],
 "metadata": {
  "kernelspec": {
   "display_name": "env",
   "language": "python",
   "name": "env"
  },
  "language_info": {
   "codemirror_mode": {
    "name": "ipython",
    "version": 3
   },
   "file_extension": ".py",
   "mimetype": "text/x-python",
   "name": "python",
   "nbconvert_exporter": "python",
   "pygments_lexer": "ipython3",
   "version": "3.8.10"
  }
 },
 "nbformat": 4,
 "nbformat_minor": 2
}