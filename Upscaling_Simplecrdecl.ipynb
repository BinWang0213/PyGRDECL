{
 "cells": [
  {
   "cell_type": "markdown",
   "metadata": {},
   "source": [
    "<img style=\"border:2px solid black;\" src=\"accueil.png\" width=100% border=\"5\"> </center> \n",
    "# <span style=\"color:blue\">Porous Media - Flow modelling tools using Jupyter </span>\n",
    "## <span style=\"color:red\"> PYGRDECL based Upscaling notebook </span>"
   ]
  },
  {
   "cell_type": "markdown",
   "metadata": {},
   "source": [
    "## <span style=\"color:blue\"> 1. Create initial GRDECL ECLIPSE/PETREL Pillar Grid </span>"
   ]
  },
  {
   "cell_type": "code",
   "execution_count": 7,
   "metadata": {},
   "outputs": [
    {
     "name": "stdout",
     "output_type": "stream",
     "text": [
      "     Creating Grid:\n",
      "       Type: CornerPoint Grid\n",
      "       Grid Dimensions (NX,NY,NZ): (100 x 5 x 100)\n",
      "       Number Of Grid Cells: 50000\n",
      "       Created: Fields: ***PERMX***PERMY***PERMZ***PORO***\n",
      "[CreateCellData] New variable [Pressure] created with a value of 1.000000!\n",
      "iz: 80\n",
      "[Geometry] Converting GRDECL to Paraview Hexahedron mesh data....\n",
      "     NumOfPoints 400000\n",
      "     NumOfCells 50000\n",
      "     .....Done!\n",
      "[Output] Writing \"Results/PILLAR_Grid.vtu\" Paraview file....Done!\n"
     ]
    },
    {
     "data": {
      "application/vnd.jupyter.widget-view+json": {
       "model_id": "85f4d775268b42c78e02e99731943df5",
       "version_major": 2,
       "version_minor": 0
      },
      "text/plain": [
       "Viewer(geometries=[{'vtkClass': 'vtkPolyData', 'points': {'vtkClass': 'vtkPoints', 'name': '_points', 'numberO…"
      ]
     },
     "metadata": {},
     "output_type": "display_data"
    },
    {
     "data": {
      "application/vnd.jupyter.widget-view+json": {
       "model_id": "85f4d775268b42c78e02e99731943df5",
       "version_major": 2,
       "version_minor": 0
      },
      "text/plain": [
       "Viewer(geometries=[{'vtkClass': 'vtkPolyData', 'points': {'vtkClass': 'vtkPoints', 'name': '_points', 'numberO…"
      ]
     },
     "metadata": {},
     "output_type": "display_data"
    }
   ],
   "source": [
    "from GRDECL2VTK import *\n",
    "\n",
    "# 1.1 Set physical dimensions in physDims (m)\n",
    "physDims=[2000.0,1000,500]\n",
    "\n",
    "# 1.2 Set model grid dimensions in gridDims\n",
    "Nx=100;  Ny=5;  Nz=Nx\n",
    "gridDims=[Nx,Ny,Nz]\n",
    "\n",
    "# 1.3 Set corner point grid options\n",
    "opt=buildCPGGrid_opt(disturbed=False,     flat=True,\\\n",
    "                     fault_drop=400 , fault_nx=Nx//2)\n",
    "\n",
    "# 1.4 Create empty GeologyModel - Build CPG\n",
    "Model=GeologyModel()\n",
    "Model.buildCPGGrid(physDims,gridDims,opt)\n",
    "\n",
    "# 1.5 Compute First TPFA (block centered) Pressure values\n",
    "Model.compute_TPFA_Pressure(Press_inj=1,direction=\"i\",Fault_opt=opt )\n",
    "Model.plot_scalar(\"Pressure\",ITK=True).show()"
   ]
  },
  {
   "cell_type": "markdown",
   "metadata": {},
   "source": [
    "## <span style=\"color:blue\"> 2. Generate  synthetic Porosity/Permeability(mD) values </span>"
   ]
  },
  {
   "cell_type": "code",
   "execution_count": 8,
   "metadata": {},
   "outputs": [
    {
     "name": "stdout",
     "output_type": "stream",
     "text": [
      "[logNormLayers] Filling K and Phi Z layers with log normal distributions\n",
      "[logNormLayers] Done\n",
      "[UpdateListCellData] varname:PORO\n",
      "[UpdateListCellData] varname:PERMX\n",
      "[UpdateListCellData] varname:PERMY\n",
      "[UpdateListCellData] varname:PERMZ\n",
      "iz: 80\n",
      "[Geometry] Converting GRDECL to Paraview Hexahedron mesh data....\n",
      "     NumOfPoints 400000\n",
      "     NumOfCells 50000\n",
      "     .....Done!\n",
      "[Output] Writing \"Results/PILLAR_Grid.vtu\" Paraview file....Done!\n"
     ]
    },
    {
     "data": {
      "application/vnd.jupyter.widget-view+json": {
       "model_id": "58bc06367d58435789911ee51c644f79",
       "version_major": 2,
       "version_minor": 0
      },
      "text/plain": [
       "Viewer(geometries=[{'vtkClass': 'vtkPolyData', 'points': {'vtkClass': 'vtkPoints', 'name': '_points', 'numberO…"
      ]
     },
     "metadata": {},
     "output_type": "display_data"
    },
    {
     "data": {
      "application/vnd.jupyter.widget-view+json": {
       "model_id": "58bc06367d58435789911ee51c644f79",
       "version_major": 2,
       "version_minor": 0
      },
      "text/plain": [
       "Viewer(geometries=[{'vtkClass': 'vtkPolyData', 'points': {'vtkClass': 'vtkPoints', 'name': '_points', 'numberO…"
      ]
     },
     "metadata": {},
     "output_type": "display_data"
    }
   ],
   "source": [
    "from utils import *\n",
    "\n",
    "# 2.1 Create random perm field with normal distribution for each layer\n",
    "K_LayerPerm=[100,1000,10]\n",
    "# K,phi=logNormLayers(gridDims,K_LayerPerm,poro_const=0.05)\n",
    "K,phi=logNormLayers_basc(gridDims,K_LayerPerm,poro_const=0.05)\n",
    "\n",
    "# 2.2 Update porosity/permeability fields\n",
    "Update_fields=[\"PORO\",\"PERMX\",\"PERMY\",\"PERMZ\"]\n",
    "Update_values=[ phi  , K     , K     , 0.1*K ]\n",
    "Model.UpdateListCellData(var_list=Update_fields,array_list=Update_values)\n",
    "\n",
    "# 2.3 Compute TPFA (block centered) Pressure values\n",
    "Model.compute_TPFA_Pressure(Press_inj=1,direction=\"i\",Fault_opt=opt )\n",
    "Model.plot_scalar(\"Pressure\",ITK=True).show()"
   ]
  },
  {
   "cell_type": "markdown",
   "metadata": {},
   "source": [
    "## <span style=\"color:blue\"> 3. Create coarse grid by partitoning fine gride</span>"
   ]
  },
  {
   "cell_type": "code",
   "execution_count": 9,
   "metadata": {},
   "outputs": [
    {
     "name": "stdout",
     "output_type": "stream",
     "text": [
      "[Partioning] Partitoning from Fine grid of size: [100,5,100] to Coarse grid of size: [50,2,50]\n",
      "[Geometry] Converting GRDECL to Paraview Hexahedron mesh data....\n",
      "     NumOfPoints 40000\n",
      "     NumOfCells 5000\n",
      "     .....Done!\n",
      "[Output] Writing \"Results/PILLAR_Grid_Coarse.vtu\" Paraview file....Done!\n"
     ]
    },
    {
     "data": {
      "application/vnd.jupyter.widget-view+json": {
       "model_id": "e134fcc2a3e049c78bf9b92cc23e115b",
       "version_major": 2,
       "version_minor": 0
      },
      "text/plain": [
       "Viewer(geometries=[{'vtkClass': 'vtkPolyData', 'points': {'vtkClass': 'vtkPoints', 'name': '_points', 'numberO…"
      ]
     },
     "metadata": {},
     "output_type": "display_data"
    },
    {
     "data": {
      "application/vnd.jupyter.widget-view+json": {
       "model_id": "e134fcc2a3e049c78bf9b92cc23e115b",
       "version_major": 2,
       "version_minor": 0
      },
      "text/plain": [
       "Viewer(geometries=[{'vtkClass': 'vtkPolyData', 'points': {'vtkClass': 'vtkPoints', 'name': '_points', 'numberO…"
      ]
     },
     "metadata": {},
     "output_type": "display_data"
    }
   ],
   "source": [
    "# Set coarsening factor (grid dimensions of coarse cells)\n",
    "Model.GRDECL_Data.coarse2fine_ratio=[2]*3\n",
    "\n",
    "# Create coarse grid and upscale porosity\n",
    "Model2=Model.create_coarse_model()\n",
    "# Model.upscale_Arithmetic_mean(\"PORO\")\n",
    "Model2.plot_scalar(\"PORO\",ITK=True).show()"
   ]
  },
  {
   "cell_type": "code",
   "execution_count": null,
   "metadata": {},
   "outputs": [],
   "source": []
  }
 ],
 "metadata": {
  "kernelspec": {
   "display_name": "Python 3 (ipykernel)",
   "language": "python",
   "name": "python3"
  },
  "language_info": {
   "codemirror_mode": {
    "name": "ipython",
    "version": 3
   },
   "file_extension": ".py",
   "mimetype": "text/x-python",
   "name": "python",
   "nbconvert_exporter": "python",
   "pygments_lexer": "ipython3",
   "version": "3.8.8"
  }
 },
 "nbformat": 4,
 "nbformat_minor": 2
}
