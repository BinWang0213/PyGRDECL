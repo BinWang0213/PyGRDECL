{
 "cells": [
  {
   "cell_type": "code",
   "execution_count": 1,
   "metadata": {
    "pycharm": {
     "is_executing": true
    }
   },
   "outputs": [],
   "source": [
    "%matplotlib inline\n",
    "%load_ext autoreload\n",
    "%autoreload 2\n",
    "\n",
    "from GRDECL2VTK import *"
   ]
  },
  {
   "cell_type": "markdown",
   "metadata": {},
   "source": [
    "### Exampel 1 - Load grid data with perm and porosity"
   ]
  },
  {
   "cell_type": "code",
   "execution_count": 2,
   "metadata": {},
   "outputs": [
    {
     "name": "stdout",
     "output_type": "stream",
     "text": [
      "[Input] Reading ECLIPSE/PETREL file \"./ExampleData/dome.grdecl\" ....\n",
      "     Grid Type=CornerPoint\n",
      "     Grid Dimension(NX,NY,NZ): (20 x 20 x 4)\n",
      "     NumOfGrids=1600\n",
      "     NumOfKeywords=11\n",
      "     Reading Keywords [SPECGRID]      [PORO]      [PERMX]      [PERMY]      [PERMZ] .....Done!\n",
      "[Geometry] Converting GRDECL to Paraview Hexahedron mesh data....\n",
      "     NumOfPoints 12800\n",
      "     NumOfCells 1600\n",
      "     .....Done!\n",
      "[Output] Writing \"Results\\dome.vtu\" Paraview file....Done!\n"
     ]
    }
   ],
   "source": [
    "#Model=GeologyModel(filename='./ExampleData/Simple3x3x1.grdecl')\n",
    "#Model=GeologyModel(filename='./ExampleData/Simple20x20x5.grdecl')\n",
    "#Model=GeologyModel(filename='./ExampleData/Simple20x20x5_Fault.grdecl')\n",
    "#Model=GeologyModel(filename='./ExampleData/Simple10x10x3_Flat_Fault.grdecl')\n",
    "#Model=GeologyModel(filename='./ExampleData/Simple10x10x3_FlatCross_Fault.grdecl')\n",
    "#Model=GeologyModel(filename='./ExampleData/40X48x1_3fatults.grdecl')\n",
    "#Model=GeologyModel(filename='./ExampleData/snarkgrid.grdecl')\n",
    "Model=GeologyModel(filename='./ExampleData/dome.grdecl')\n",
    "#Model=GeologyModel(filename='./ExampleData/pillar_36x48.grdecl')\n",
    "#Model=GeologyModel(filename='./ExampleData/Johansen.grdecl')\n",
    "#Model=GeologyModel(filename='./ExampleData/Norne.GRDECL')\n",
    "\n",
    "Model.GRDECL2VTK()\n",
    "Model.Write2VTU()"
   ]
  },
  {
   "cell_type": "code",
   "execution_count": 3,
   "metadata": {},
   "outputs": [
    {
     "name": "stdout",
     "output_type": "stream",
     "text": [
      "[FaultProcess] Found 7 faults.\n",
      "Added 1 new intersection pts\n",
      "[FaultProcess] Domain is splitted as 6 polygons.\n"
     ]
    },
    {
     "data": {
      "image/png": "[encoded data removed]",
      "text/plain": [
       "<Figure size 480x480 with 2 Axes>"
      ]
     },
     "metadata": {},
     "output_type": "display_data"
    },
    {
     "name": "stdout",
     "output_type": "stream",
     "text": [
      "[Output] Writing \"Results\\dome.vtu\" Paraview file....Done!\n"
     ]
    }
   ],
   "source": [
    "Model.decomposeModel()\n",
    "Model.Write2VTU()"
   ]
  },
  {
   "cell_type": "markdown",
   "metadata": {},
   "source": [
    "### Create cartesian grid -- Write new GRDECL file -- Test output"
   ]
  },
  {
   "cell_type": "code",
   "execution_count": 4,
   "metadata": {},
   "outputs": [
    {
     "name": "stdout",
     "output_type": "stream",
     "text": [
      "     Grid Type=Cartesian Grid\n",
      "     Grid Dimension(NX,NY,NZ): (8 x 8 x 8)\n",
      "     NumOfGrids=512\n",
      "[Output] Writing \"ExampleData/Cart00.GRDECL\" GRDECL file.....done\n",
      "[Input] Reading ECLIPSE/PETREL file \"ExampleData/Cart00.GRDECL\" ....\n",
      "     Grid Type=Cartesian Grid\n",
      "     Grid Dimension(NX,NY,NZ): (8 x 8 x 8)\n",
      "     NumOfGrids=512\n",
      "     NumOfKeywords=9\n",
      "     Reading Keyword 1 [DIMENS]      [PERMX]      [PERMY]      [PERMZ]      [PORO] .....Done!\n",
      "[Geometry] Converting GRDECL to Paraview Hexahedron mesh data....\n",
      "     NumOfPoints 4096\n",
      "     NumOfCells 512\n",
      "     .....Done!\n",
      "[Output] Writing \"Results\\Cart00.vtu\" Paraview file....Done!\n"
     ]
    }
   ],
   "source": [
    "# Create cartesian Grid and associated GRDECL file\n",
    "Model=GeologyModel()\n",
    "Nxyz=8\n",
    "Model.buildCartGrid([10.0,10.0,10.0],[Nxyz,Nxyz,Nxyz])\n",
    "\n",
    "# Write GRDECL file for this cartesian model\n",
    "FilePath=\"ExampleData/\"\n",
    "Basefilename=\"Cart00\"\n",
    "FileExtension=\"GRDECL\"\n",
    "filename=FilePath+Basefilename + \".\" + FileExtension\n",
    "Model.writeCartGrid_forGRDECL(filename)\n",
    "\n",
    "# Test output file by reading it\n",
    "Model=GeologyModel(filename=\"ExampleData/Cart00.GRDECL\")\n",
    "Model.GRDECL2VTK()\n",
    "Model.Write2VTU()"
   ]
  },
  {
   "cell_type": "code",
   "execution_count": 5,
   "metadata": {},
   "outputs": [
    {
     "name": "stdout",
     "output_type": "stream",
     "text": [
      "[Output] Writing \"Results\\Cart00.vtu\" Paraview file....Done!\n",
      "[Output] Writing \"Results\\Cart00.vtp\" VTP file..vtp file created.\n"
     ]
    }
   ],
   "source": [
    "Model.Write2VTP()"
   ]
  },
  {
   "cell_type": "markdown",
   "metadata": {},
   "source": [
    "### Interactive Visulization directly from Jupyter Notebook (using pyvista)"
   ]
  },
  {
   "cell_type": "code",
   "execution_count": 6,
   "metadata": {},
   "outputs": [],
   "source": [
    "try:\n",
    "    import pyvista as pv\n",
    "except ImportError:\n",
    "    import warnings\n",
    "    warnings.warn(\"No vtk notebook viewer module pyvista loaded.\")"
   ]
  },
  {
   "cell_type": "code",
   "execution_count": 7,
   "metadata": {},
   "outputs": [
    {
     "data": {
      "text/html": [
       "<table><tr><th>Header</th><th>Data Arrays</th></tr><tr><td>\n",
       "<table>\n",
       "<tr><th>PolyData</th><th>Information</th></tr>\n",
       "<tr><td>N Cells</td><td>3072</td></tr>\n",
       "<tr><td>N Points</td><td>4096</td></tr>\n",
       "<tr><td>X Bounds</td><td>0.000e+00, 1.000e+01</td></tr>\n",
       "<tr><td>Y Bounds</td><td>0.000e+00, 1.000e+01</td></tr>\n",
       "<tr><td>Z Bounds</td><td>0.000e+00, 1.000e+01</td></tr>\n",
       "<tr><td>N Arrays</td><td>4</td></tr>\n",
       "</table>\n",
       "\n",
       "</td><td>\n",
       "<table>\n",
       "<tr><th>Name</th><th>Field</th><th>Type</th><th>N Comp</th><th>Min</th><th>Max</th></tr>\n",
       "<tr><td><b>PERMX</b></td><td>Cells</td><td>float32</td><td>1</td><td>1.000e+01</td><td>1.000e+01</td></tr>\n",
       "<tr><td>PERMY</td><td>Cells</td><td>float32</td><td>1</td><td>1.000e+01</td><td>1.000e+01</td></tr>\n",
       "<tr><td>PERMZ</td><td>Cells</td><td>float32</td><td>1</td><td>1.000e+01</td><td>1.000e+01</td></tr>\n",
       "<tr><td>PORO</td><td>Cells</td><td>float32</td><td>1</td><td>3.000e-01</td><td>3.000e-01</td></tr>\n",
       "</table>\n",
       "\n",
       "</td></tr> </table>"
      ],
      "text/plain": [
       "PolyData (0xcf462e8)\n",
       "  N Cells:\t3072\n",
       "  N Points:\t4096\n",
       "  X Bounds:\t0.000e+00, 1.000e+01\n",
       "  Y Bounds:\t0.000e+00, 1.000e+01\n",
       "  Z Bounds:\t0.000e+00, 1.000e+01\n",
       "  N Arrays:\t4"
      ]
     },
     "execution_count": 7,
     "metadata": {},
     "output_type": "execute_result"
    }
   ],
   "source": [
    "FilePath=\"Results\\\\\"\n",
    "FileExtension=\"vtp\"\n",
    "filename=FilePath+Basefilename + \".\" + FileExtension\n",
    "\n",
    "mesh = pv.read(filename)\n",
    "mesh"
   ]
  },
  {
   "cell_type": "code",
   "execution_count": 8,
   "metadata": {},
   "outputs": [
    {
     "data": {
      "application/vnd.jupyter.widget-view+json": {
       "model_id": "dc0eb21af8c9401c9e90e02cfe892ec9",
       "version_major": 2,
       "version_minor": 0
      },
      "text/plain": [
       "Viewer(geometries=[{'vtkClass': 'vtkPolyData', 'points': {'vtkClass': 'vtkPoints', 'name': '_points', 'numberO…"
      ]
     },
     "metadata": {},
     "output_type": "display_data"
    },
    {
     "data": {
      "application/vnd.jupyter.widget-view+json": {
       "model_id": "dc0eb21af8c9401c9e90e02cfe892ec9",
       "version_major": 2,
       "version_minor": 0
      },
      "text/plain": [
       "Viewer(geometries=[{'vtkClass': 'vtkPolyData', 'points': {'vtkClass': 'vtkPoints', 'name': '_points', 'numberO…"
      ]
     },
     "metadata": {},
     "output_type": "display_data"
    }
   ],
   "source": [
    "pl = pv.PlotterITK()\n",
    "pl.add_mesh(mesh, scalars='PORO', smooth_shading=True)\n",
    "pl.show(True)"
   ]
  },
  {
   "cell_type": "markdown",
   "metadata": {},
   "source": [
    "### Example 2 - Load grid data and adding any custom field"
   ]
  },
  {
   "cell_type": "code",
   "execution_count": 8,
   "metadata": {},
   "outputs": [
    {
     "name": "stdout",
     "output_type": "stream",
     "text": [
      "[Input] Reading ECLIPSE/PETREL file \"./ExampleData/dome.grdecl\" ....\n",
      "     Grid Type=CornerPoint\n",
      "     Grid Dimension(NX,NY,NZ): (20 x 20 x 4)\n",
      "     NumOfGrids=1600\n",
      "     NumOfKeywords=11\n",
      "     Reading Keywords [SPECGRID]      [PORO]      [PERMX]      [PERMY]      [PERMZ] .....Done!\n",
      "[Input] Reading ECLIPSE/PETREL file \"./ExampleData/dome_Temperature.txt\" ....\n",
      "     Reading Keywords [TEMP] \n",
      "     New variable [TEMP] loaded from file!\n",
      "[Geometry] Converting GRDECL to Paraview Hexahedron mesh data....\n",
      "     NumOfPoints 12800\n",
      "     NumOfCells 1600\n",
      "     .....Done!\n",
      "[Output] Writing \"Results\\dome.vtu\" Paraview file....Done!\n"
     ]
    }
   ],
   "source": [
    "Model=GeologyModel(filename='./ExampleData/dome.grdecl')\n",
    "\n",
    "TempData=Model.LoadCellData(varname=\"TEMP\",filename='./ExampleData/dome_Temperature.txt')\n",
    "Model.GRDECL2VTK()\n",
    "Model.Write2VTU()"
   ]
  },
  {
   "cell_type": "code",
   "execution_count": null,
   "metadata": {},
   "outputs": [],
   "source": []
  }
 ],
 "metadata": {
  "kernelspec": {
   "display_name": "Python 3",
   "language": "python",
   "name": "python3"
  },
  "language_info": {
   "codemirror_mode": {
    "name": "ipython",
    "version": 3
   },
   "file_extension": ".py",
   "mimetype": "text/x-python",
   "name": "python",
   "nbconvert_exporter": "python",
   "pygments_lexer": "ipython3",
   "version": "3.6.13"
  }
 },
 "nbformat": 4,
 "nbformat_minor": 2
}
