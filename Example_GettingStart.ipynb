{
 "cells": [
  {
   "cell_type": "code",
   "execution_count": 1,
   "metadata": {},
   "outputs": [],
   "source": [
    "%matplotlib inline\n",
    "%load_ext autoreload\n",
    "%autoreload 2\n",
    "\n",
    "from GRDECL2VTK import *"
   ]
  },
  {
   "cell_type": "markdown",
   "metadata": {},
   "source": [
    "### Exampel 1 - Load grid data with perm and porosity"
   ]
  },
  {
   "cell_type": "code",
   "execution_count": 2,
   "metadata": {},
   "outputs": [
    {
     "name": "stdout",
     "output_type": "stream",
     "text": [
      "[Input] Reading ECLIPSE/PETREL file \"./ExampleData/dome.grdecl\" ....\n",
      "     Grid Type=CornerPoint\n",
      "     Grid Dimension(NX,NY,NZ): (20 x 20 x 4)\n",
      "     NumOfGrids=1600\n",
      "     NumOfKeywords=11\n",
      "     Reading Keywords [SPECGRID] \n",
      "     [Warnning] Unsupport keywords[PORO]\n",
      "     [PERMX]      [PERMY]      [PERMZ] .....Done!\n",
      "[Geometry] Converting GRDECL to Paraview Hexahedron mesh data....\n",
      "     NumOfPoints 12800\n",
      "     NumOfCells 1600\n",
      "     .....Done!\n",
      "[Output] Writing \"Results/dome.vtu\" Paraview file....Done!\n"
     ]
    }
   ],
   "source": [
    "#Model=GeologyModel(filename='./ExampleData/Simple3x3x1.grdecl')\n",
    "#Model=GeologyModel(filename='./ExampleData/Simple20x20x5.grdecl')\n",
    "#Model=GeologyModel(filename='./ExampleData/Simple20x20x5_Fault.grdecl')\n",
    "#Model=GeologyModel(filename='./ExampleData/Simple10x10x3_Flat_Fault.grdecl')\n",
    "#Model=GeologyModel(filename='./ExampleData/Simple10x10x3_FlatCross_Fault.grdecl')\n",
    "#Model=GeologyModel(filename='./ExampleData/40X48x1_3fatults.grdecl')\n",
    "#Model=GeologyModel(filename='./ExampleData/snarkgrid.grdecl')\n",
    "Model=GeologyModel(filename='./ExampleData/dome.grdecl')\n",
    "#Model=GeologyModel(filename='./ExampleData/pillar_36x48.grdecl')\n",
    "#Model=GeologyModel(filename='./ExampleData/Johansen.grdecl')\n",
    "#Model=GeologyModel(filename='./ExampleData/Norne.GRDECL')\n",
    "\n",
    "Model.GRDECL2VTK()\n",
    "Model.Write2VTU()"
   ]
  },
  {
   "cell_type": "code",
   "execution_count": 3,
   "metadata": {
    "pycharm": {
     "is_executing": true
    }
   },
   "outputs": [
    {
     "name": "stdout",
     "output_type": "stream",
     "text": [
      "[FaultProcess] Found 7 faults.\n",
      "Added 1 new intersection pts\n",
      "[FaultProcess] Domain is splitted as 6 polygons.\n"
     ]
    },
    {
     "data": {
      "image/png": "[encoded data removed]",
      "text/plain": [
       "<Figure size 480x480 with 2 Axes>"
      ]
     },
     "metadata": {},
     "output_type": "display_data"
    },
    {
     "name": "stdout",
     "output_type": "stream",
     "text": [
      "[Output] Writing \"Results/dome.vtu\" Paraview file....Done!\n"
     ]
    }
   ],
   "source": [
    "Model.decomposeModel()\n",
    "Model.Write2VTU()"
   ]
  },
  {
   "cell_type": "markdown",
   "metadata": {
    "pycharm": {
     "name": "#%% md\n"
    }
   },
   "source": [
    "### Create cartesian grid -- Write new GRDECL file -- Test output"
   ]
  },
  {
   "cell_type": "code",
   "execution_count": 4,
   "metadata": {
    "pycharm": {
     "is_executing": true,
     "name": "#%%\n"
    }
   },
   "outputs": [
    {
     "name": "stdout",
     "output_type": "stream",
     "text": [
      "     Grid Type=Cartesian Grid\n",
      "     Grid Dimension(NX,NY,NZ): (8 x 8 x 8)\n",
      "     NumOfGrids=512\n",
      "[Output] Writing \"ExampleData/Cart00.GRDECL\" GRDECL file.....done\n",
      "[Input] Reading ECLIPSE/PETREL file \"ExampleData/Cart00.GRDECL\" ....\n",
      "     Grid Type=Cartesian Grid\n",
      "     Grid Dimension(NX,NY,NZ): (8 x 8 x 8)\n",
      "     NumOfGrids=512\n",
      "     NumOfKeywords=9\n",
      "     Reading Keyword 1 [DIMENS]      [PERMX]      [PERMY]      [PERMZ] \n",
      "     [Warnning] Unsupport keywords[PORO]\n",
      ".....Done!\n",
      "[Geometry] Converting GRDECL to Paraview Hexahedron mesh data....\n",
      "     NumOfPoints 4096\n",
      "     NumOfCells 512\n",
      "     .....Done!\n",
      "[Output] Writing \"Results/Cart00.vtu\" Paraview file....Done!\n"
     ]
    }
   ],
   "source": [
    "# Create cartesian Grid and associated GRDECL file\n",
    "Model=GeologyModel()\n",
    "Nxyz=8\n",
    "Model.buildCartGrid([10.0,10.0,10.0],[Nxyz,Nxyz,Nxyz])\n",
    "\n",
    "# Write GRDECL file for this cartesian model\n",
    "FilePath=\"ExampleData/\"\n",
    "Basefilename=\"Cart00\"\n",
    "FileExtension=\"GRDECL\"\n",
    "filename=FilePath+Basefilename + \".\" + FileExtension\n",
    "Model.writeCartGrid_forGRDECL(filename)\n",
    "\n",
    "# Test output file by reading it\n",
    "Model=GeologyModel(filename=\"ExampleData/Cart00.GRDECL\")\n",
    "Model.GRDECL2VTK()\n",
    "Model.Write2VTU()"
   ]
  },
  {
   "cell_type": "markdown",
   "metadata": {
    "pycharm": {
     "name": "#%% md\n"
    }
   },
   "source": [
    "### Create corner point grid "
   ]
  },
  {
   "cell_type": "code",
   "execution_count": 31,
   "metadata": {
    "pycharm": {
     "name": "#%%\n"
    },
    "scrolled": false
   },
   "outputs": [
    {
     "name": "stdout",
     "output_type": "stream",
     "text": [
      "The autoreload extension is already loaded. To reload it, use:\n",
      "  %reload_ext autoreload\n",
      "     Grid Type=CornerPoint Grid\n",
      "     Grid Dimension(NX,NY,NZ): (4 x 4 x 3)\n",
      "     NumOfGrids=48\n",
      "[Geometry] Converting GRDECL to Paraview Hexahedron mesh data....\n",
      "     NumOfPoints 384\n",
      "     NumOfCells 48\n",
      "     .....Done!\n",
      "[Output] Writing \"Results/CPGrid00.vtu\" Paraview file....Done!\n"
     ]
    }
   ],
   "source": [
    "%matplotlib inline\n",
    "%load_ext autoreload\n",
    "%autoreload 2\n",
    "\n",
    "from GRDECL2VTK import *\n",
    "import numpy as np, math\n",
    "\n",
    "FilePath=\"ExampleData/\"\n",
    "Basefilename=\"CPGrid00\"\n",
    "FileExtension=\"GRDECL\"\n",
    "\n",
    "Model=GeologyModel()\n",
    "Model.fname=FilePath+Basefilename + \".\" + FileExtension\n",
    "\n",
    "Nxyz=Nx=Ny=Nz=4\n",
    "divisor=2\n",
    "xmax=1\n",
    "ymax=xmax\n",
    "zmax=xmax/divisor\n",
    "Nz//=divisor\n",
    "Nz=3\n",
    "opt={'disturbed':False,'flat':True}\n",
    "Model.buildCPGGrid([xmax,ymax,zmax],[Nx,Ny,Nz],opt,faultDrop=0.15)\n",
    "\n",
    "\n",
    "Model.GRDECL2VTK()\n",
    "Model.Write2VTU()"
   ]
  },
  {
   "cell_type": "code",
   "execution_count": 32,
   "metadata": {},
   "outputs": [],
   "source": [
    "G=Model.GRDECL_Data\n",
    "self=G"
   ]
  },
  {
   "cell_type": "code",
   "execution_count": 37,
   "metadata": {
    "pycharm": {
     "is_executing": true
    }
   },
   "outputs": [
    {
     "name": "stdout",
     "output_type": "stream",
     "text": [
      "[FaultProcess] Found 1 faults.\n",
      "[FaultProcess] Domain is splitted as 2 polygons.\n"
     ]
    },
    {
     "data": {
      "image/png": "[encoded data removed]",
      "text/plain": [
       "<Figure size 480x480 with 2 Axes>"
      ]
     },
     "metadata": {},
     "output_type": "display_data"
    },
    {
     "name": "stdout",
     "output_type": "stream",
     "text": [
      "[Output] Writing \"Results/CPGrid00.vtu\" Paraview file....Done!\n"
     ]
    }
   ],
   "source": [
    "Model.decomposeModel()\n",
    "Model.Write2VTU()"
   ]
  },
  {
   "cell_type": "code",
   "execution_count": null,
   "metadata": {
    "pycharm": {
     "is_executing": true,
     "name": "#%%\n"
    }
   },
   "outputs": [],
   "source": [
    "Model.Write2VTP()"
   ]
  },
  {
   "cell_type": "markdown",
   "metadata": {},
   "source": [
    "### Process corner point grid for TPFA calculations"
   ]
  },
  {
   "cell_type": "code",
   "execution_count": 151,
   "metadata": {
    "pycharm": {
     "is_executing": true
    },
    "scrolled": false
   },
   "outputs": [
    {
     "name": "stdout",
     "output_type": "stream",
     "text": [
      "Processing regular faces\n",
      "Found  80  new regular faces\n",
      "findFaults\n",
      "Found 4 faulted stacks\n",
      "\n"
     ]
    }
   ],
   "source": [
    "FilePath=\"ExampleData/\"\n",
    "Basefilename=\"CPGrid00\"\n",
    "FileExtension=\"GRDECL\"\n",
    "# Construct X,Y,Z nodal coordiantes array from COORD and ZCORN\n",
    "# Model.buildCPGGrid([xmax,ymax,zmax],[Nx,Ny,Nz],faultDrop=0.15)\n",
    "Model.processGRDECL()\n",
    "import numpy as np\n",
    "np.set_printoptions(precision=4)\n",
    "G=Model.GRDECL_Data\n",
    "self=G\n",
    "# axis=['NX','NY','NZ']\n",
    "# size=[Nx,Ny,Nz]\n",
    "# print(axis,size)\n",
    "# for i in range(2*Nz+2):\n",
    "#     print('i,X[:,:,i] :',i,'\\n',G.X[:,:,i])"
   ]
  },
  {
   "cell_type": "code",
   "execution_count": 152,
   "metadata": {},
   "outputs": [
    {
     "data": {
      "text/plain": [
       "array([10.8, 27. , 43.2, 59.4, 10.8, 27. , 43.2, 59.4, 10.8, 27. , 43.2,\n",
       "       59.4, 10.8, 27. , 43.2, 59.4, 10.8, 27. , 43.2, 59.4, 10.8, 27. ,\n",
       "       43.2, 59.4, 10.8, 27. , 43.2, 59.4, 10.8, 27. , 43.2, 59.4, 10.8,\n",
       "       27. , 43.2, 59.4, 10.8, 27. , 43.2, 59.4])"
      ]
     },
     "execution_count": 152,
     "metadata": {},
     "output_type": "execute_result"
    }
   ],
   "source": [
    "self.dZ2"
   ]
  },
  {
   "cell_type": "code",
   "execution_count": 140,
   "metadata": {},
   "outputs": [
    {
     "name": "stdout",
     "output_type": "stream",
     "text": [
      "size:  40\n",
      "1 [3. 8.] [3. 8.]\n",
      "2 [28. 33.] [28. 33.]\n",
      "3 [53. 56.] [81. 84.]\n",
      "4 [68. 71.] [111. 114.]\n",
      "5 [68. 71.] [111. 114.]\n",
      "6 [ 98. 101.] [141. 144.]\n",
      "7 [ 98. 101.] [141. 144.]\n",
      "8 [128. 131.] [156. 159.]\n",
      "9 [173. 178.] [173. 178.]\n",
      "10 [198. 203.] [198. 203.]\n",
      "11 [ 8. 13.] [ 8. 13.]\n",
      "12 [33. 38.] [33. 38.]\n",
      "13 [56. 59.] [84. 87.]\n",
      "14 [71. 74.] [114. 117.]\n",
      "15 [71. 74.] [114. 117.]\n",
      "16 [101. 104.] [144. 147.]\n",
      "17 [101. 104.] [144. 147.]\n",
      "18 [131. 134.] [159. 162.]\n",
      "19 [178. 183.] [178. 183.]\n",
      "20 [203. 208.] [203. 208.]\n",
      "21 [13. 18.] [13. 18.]\n",
      "22 [38. 43.] [38. 43.]\n",
      "23 [59. 62.] [87. 90.]\n",
      "24 [74. 77.] [117. 120.]\n",
      "25 [74. 77.] [117. 120.]\n",
      "26 [104. 107.] [147. 150.]\n",
      "27 [104. 107.] [147. 150.]\n",
      "28 [134. 137.] [162. 165.]\n",
      "29 [183. 188.] [183. 188.]\n",
      "30 [208. 213.] [208. 213.]\n",
      "31 [18. 23.] [18. 23.]\n",
      "32 [43. 48.] [43. 48.]\n",
      "33 [62. 65.] [90. 93.]\n",
      "34 [77. 80.] [120. 123.]\n",
      "35 [77. 80.] [120. 123.]\n",
      "36 [107. 110.] [150. 153.]\n",
      "37 [107. 110.] [150. 153.]\n",
      "38 [137. 140.] [165. 168.]\n",
      "39 [188. 193.] [188. 193.]\n",
      "40 [213. 218.] [213. 218.]\n"
     ]
    }
   ],
   "source": [
    "checked=self.a\n",
    "checked2=self.b\n",
    "print('size: ',checked.size//2)\n",
    "for i in range(checked.size//2):\n",
    "    print(i+1,checked[i,:]+1,checked2[i,:]+1)\n"
   ]
  },
  {
   "cell_type": "code",
   "execution_count": 141,
   "metadata": {},
   "outputs": [
    {
     "name": "stdout",
     "output_type": "stream",
     "text": [
      "size:  (10, 3, 4)\n",
      "1 \n",
      " [[ 5.4 10.8 16.2]\n",
      " [ 5.4 10.8 16.2]\n",
      " [ 5.4 10.8 16.2]\n",
      " [ 5.4 10.8 16.2]\n",
      " [ 5.4 10.8 16.2]\n",
      " [ 5.4 10.8 16.2]\n",
      " [ 5.4 10.8 16.2]\n",
      " [ 5.4 10.8 16.2]\n",
      " [ 5.4 10.8 16.2]\n",
      " [ 5.4 10.8 16.2]]\n",
      "2 \n",
      " [[21.6 27.  32.4]\n",
      " [21.6 27.  32.4]\n",
      " [21.6 27.  32.4]\n",
      " [21.6 27.  32.4]\n",
      " [21.6 27.  32.4]\n",
      " [21.6 27.  32.4]\n",
      " [21.6 27.  32.4]\n",
      " [21.6 27.  32.4]\n",
      " [21.6 27.  32.4]\n",
      " [21.6 27.  32.4]]\n",
      "3 \n",
      " [[37.8 43.2 48.6]\n",
      " [37.8 43.2 48.6]\n",
      " [37.8 43.2 48.6]\n",
      " [37.8 43.2 48.6]\n",
      " [37.8 43.2 48.6]\n",
      " [37.8 43.2 48.6]\n",
      " [37.8 43.2 48.6]\n",
      " [37.8 43.2 48.6]\n",
      " [37.8 43.2 48.6]\n",
      " [37.8 43.2 48.6]]\n",
      "4 \n",
      " [[54.  59.4 64.8]\n",
      " [54.  59.4 64.8]\n",
      " [54.  59.4 64.8]\n",
      " [54.  59.4 64.8]\n",
      " [54.  59.4 64.8]\n",
      " [54.  59.4 64.8]\n",
      " [54.  59.4 64.8]\n",
      " [54.  59.4 64.8]\n",
      " [54.  59.4 64.8]\n",
      " [54.  59.4 64.8]]\n"
     ]
    }
   ],
   "source": [
    "checked=self.dZ2\n",
    "print('size: ',checked.shape)\n",
    "for i in range(checked.shape[2]):\n",
    "    print(i+1,\"\\n\",checked[:,:,i]*1)\n"
   ]
  },
  {
   "cell_type": "code",
   "execution_count": null,
   "metadata": {},
   "outputs": [],
   "source": [
    "self.ZCORN"
   ]
  },
  {
   "cell_type": "code",
   "execution_count": null,
   "metadata": {},
   "outputs": [],
   "source": [
    "qsdfghjkl"
   ]
  },
  {
   "cell_type": "markdown",
   "metadata": {
    "pycharm": {
     "name": "#%% md\n"
    }
   },
   "source": [
    "### Interactive Visualization directly from Jupyter Notebook (using pyvista and ITK)"
   ]
  },
  {
   "cell_type": "code",
   "execution_count": null,
   "metadata": {
    "pycharm": {
     "is_executing": true,
     "name": "#%%\n"
    }
   },
   "outputs": [],
   "source": [
    "try:\n",
    "    import pyvista as pv\n",
    "except ImportError:\n",
    "    import warnings\n",
    "    warnings.warn(\"No vtk notebook viewer module pyvista loaded.\")"
   ]
  },
  {
   "cell_type": "code",
   "execution_count": null,
   "metadata": {
    "pycharm": {
     "is_executing": true,
     "name": "#%%\n"
    }
   },
   "outputs": [],
   "source": [
    "FilePath=r\"Results/\"\n",
    "FileExtension=\"vtp\"\n",
    "filename=FilePath+Basefilename + \".\" + FileExtension\n",
    "\n",
    "mesh = pv.read(filename)\n",
    "mesh"
   ]
  },
  {
   "cell_type": "code",
   "execution_count": null,
   "metadata": {
    "pycharm": {
     "is_executing": true,
     "name": "#%%\n"
    }
   },
   "outputs": [],
   "source": [
    "pl = pv.PlotterITK()\n",
    "pl.add_mesh(mesh, scalars='PORO', smooth_shading=True)\n",
    "pl.show()"
   ]
  },
  {
   "cell_type": "code",
   "execution_count": null,
   "metadata": {},
   "outputs": [],
   "source": []
  },
  {
   "cell_type": "code",
   "execution_count": null,
   "metadata": {
    "pycharm": {
     "is_executing": true
    }
   },
   "outputs": [],
   "source": [
    "mesh.plot(scalars=\"PORO\",show_edges=True, notebook=True)"
   ]
  },
  {
   "cell_type": "markdown",
   "metadata": {},
   "source": [
    "### Exampel 2 - Load grid data and adding any custom field"
   ]
  },
  {
   "cell_type": "code",
   "execution_count": null,
   "metadata": {
    "pycharm": {
     "is_executing": true
    }
   },
   "outputs": [],
   "source": [
    "Model=GeologyModel(filename='./ExampleData/dome.grdecl')\n",
    "\n",
    "TempData=Model.LoadCellData(varname=\"TEMP\",filename='./ExampleData/dome_Temperature.txt')\n",
    "Model.GRDECL2VTK()\n",
    "Model.Write2VTU()"
   ]
  },
  {
   "cell_type": "code",
   "execution_count": null,
   "metadata": {
    "pycharm": {
     "is_executing": true
    }
   },
   "outputs": [],
   "source": []
  }
 ],
 "metadata": {
  "kernelspec": {
   "display_name": "Python 3",
   "language": "python",
   "name": "python3"
  },
  "language_info": {
   "codemirror_mode": {
    "name": "ipython",
    "version": 3
   },
   "file_extension": ".py",
   "mimetype": "text/x-python",
   "name": "python",
   "nbconvert_exporter": "python",
   "pygments_lexer": "ipython3",
   "version": "3.7.10"
  }
 },
 "nbformat": 4,
 "nbformat_minor": 2
}
