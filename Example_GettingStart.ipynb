{
 "cells": [
  {
   "cell_type": "code",
   "execution_count": 2,
   "metadata": {
    "pycharm": {
     "is_executing": true
    }
   },
   "outputs": [
    {
     "name": "stdout",
     "output_type": "stream",
     "text": [
      "The autoreload extension is already loaded. To reload it, use:\n",
      "  %reload_ext autoreload\n"
     ]
    }
   ],
   "source": [
    "%matplotlib inline\n",
    "%load_ext autoreload\n",
    "%autoreload 2\n",
    "\n",
    "from GRDECL2VTK import *"
   ]
  },
  {
   "cell_type": "markdown",
   "metadata": {},
   "source": [
    "### Exampel 1 - Load grid data with perm and porosity"
   ]
  },
  {
   "cell_type": "code",
   "execution_count": 3,
   "metadata": {},
   "outputs": [
    {
     "name": "stdout",
     "output_type": "stream",
     "text": [
      "[Input] Reading ECLIPSE/PETREL file \"./ExampleData/dome.grdecl\" ....\n",
      "     Grid Type=CornerPoint\n",
      "     Grid Dimension(NX,NY,NZ): (20 x 20 x 4)\n",
      "     NumOfGrids=1600\n",
      "     NumOfKeywords=11\n",
      "     Reading Keywords [SPECGRID]      [PORO]      [PERMX]      [PERMY]      [PERMZ] .....Done!\n",
      "[Geometry] Converting GRDECL to Paraview Hexahedron mesh data....\n",
      "     NumOfPoints 12800\n",
      "     NumOfCells 1600\n",
      "     .....Done!\n",
      "[Output] Writing \"Results\\dome.vtu\" Paraview file....Done!\n"
     ]
    }
   ],
   "source": [
    "#Model=GeologyModel(filename='./ExampleData/Simple3x3x1.grdecl')\n",
    "#Model=GeologyModel(filename='./ExampleData/Simple20x20x5.grdecl')\n",
    "#Model=GeologyModel(filename='./ExampleData/Simple20x20x5_Fault.grdecl')\n",
    "#Model=GeologyModel(filename='./ExampleData/Simple10x10x3_Flat_Fault.grdecl')\n",
    "#Model=GeologyModel(filename='./ExampleData/Simple10x10x3_FlatCross_Fault.grdecl')\n",
    "#Model=GeologyModel(filename='./ExampleData/40X48x1_3fatults.grdecl')\n",
    "#Model=GeologyModel(filename='./ExampleData/snarkgrid.grdecl')\n",
    "Model=GeologyModel(filename='./ExampleData/dome.grdecl')\n",
    "#Model=GeologyModel(filename='./ExampleData/pillar_36x48.grdecl')\n",
    "#Model=GeologyModel(filename='./ExampleData/Johansen.grdecl')\n",
    "#Model=GeologyModel(filename='./ExampleData/Norne.GRDECL')\n",
    "\n",
    "Model.GRDECL2VTK()\n",
    "Model.Write2VTU()"
   ]
  },
  {
   "cell_type": "code",
   "execution_count": 4,
   "metadata": {},
   "outputs": [
    {
     "name": "stdout",
     "output_type": "stream",
     "text": [
      "[FaultProcess] Found 7 faults.\n",
      "Added 1 new intersection pts\n",
      "[FaultProcess] Domain is splitted as 6 polygons.\n"
     ]
    },
    {
     "data": {
      "image/png": "[encoded data removed]",
      "text/plain": [
       "<Figure size 480x480 with 2 Axes>"
      ]
     },
     "metadata": {},
     "output_type": "display_data"
    },
    {
     "name": "stdout",
     "output_type": "stream",
     "text": [
      "[Output] Writing \"Results\\dome.vtu\" Paraview file....Done!\n"
     ]
    }
   ],
   "source": [
    "Model.decomposeModel()\n",
    "Model.Write2VTU()"
   ]
  },
  {
   "cell_type": "code",
   "execution_count": 5,
   "metadata": {},
   "outputs": [
    {
     "name": "stdout",
     "output_type": "stream",
     "text": [
      "[Output] Writing \"Results\\dome.vtu\" Paraview file....Done!\n",
      "[Output] Writing \"Results\\dome.vtp\" VTP file..vtp file created.\n"
     ]
    }
   ],
   "source": [
    "Model.Write2VTP()"
   ]
  },
  {
   "cell_type": "markdown",
   "metadata": {},
   "source": [
    "### Interactive Visulization directly from Jupyter Notebook (using pyvista)"
   ]
  },
  {
   "cell_type": "code",
   "execution_count": 6,
   "metadata": {},
   "outputs": [],
   "source": [
    "try:\n",
    "    import pyvista as pv\n",
    "except ImportError:\n",
    "    import warnings\n",
    "    warnings.warn(\"No vtk notebook viewer module pyvista loaded.\")"
   ]
  },
  {
   "cell_type": "code",
   "execution_count": 7,
   "metadata": {},
   "outputs": [
    {
     "data": {
      "text/html": [
       "<table><tr><th>Header</th><th>Data Arrays</th></tr><tr><td>\n",
       "<table>\n",
       "<tr><th>PolyData</th><th>Information</th></tr>\n",
       "<tr><td>N Cells</td><td>9600</td></tr>\n",
       "<tr><td>N Points</td><td>12800</td></tr>\n",
       "<tr><td>X Bounds</td><td>-2.247e+01, 1.630e+03</td></tr>\n",
       "<tr><td>Y Bounds</td><td>-1.242e+03, 5.627e+01</td></tr>\n",
       "<tr><td>Z Bounds</td><td>1.999e+03, 2.646e+03</td></tr>\n",
       "<tr><td>N Arrays</td><td>6</td></tr>\n",
       "</table>\n",
       "\n",
       "</td><td>\n",
       "<table>\n",
       "<tr><th>Name</th><th>Field</th><th>Type</th><th>N Comp</th><th>Min</th><th>Max</th></tr>\n",
       "<tr><td><b>PORO</b></td><td>Cells</td><td>float32</td><td>1</td><td>1.016e-01</td><td>4.098e-01</td></tr>\n",
       "<tr><td>PERMX</td><td>Cells</td><td>float32</td><td>1</td><td>2.503e-01</td><td>1.027e+03</td></tr>\n",
       "<tr><td>PERMY</td><td>Cells</td><td>float32</td><td>1</td><td>4.144e-01</td><td>9.247e+02</td></tr>\n",
       "<tr><td>PERMZ</td><td>Cells</td><td>float32</td><td>1</td><td>1.555e-01</td><td>2.055e+02</td></tr>\n",
       "<tr><td>SubVolumeIDs</td><td>Cells</td><td>float32</td><td>1</td><td>1.000e+00</td><td>6.000e+00</td></tr>\n",
       "<tr><td>SubVolumes</td><td>Cells</td><td>float32</td><td>1</td><td>6.921e-01</td><td>6.877e+00</td></tr>\n",
       "</table>\n",
       "\n",
       "</td></tr> </table>"
      ],
      "text/plain": [
       "PolyData (0xc557a68)\n",
       "  N Cells:\t9600\n",
       "  N Points:\t12800\n",
       "  X Bounds:\t-2.247e+01, 1.630e+03\n",
       "  Y Bounds:\t-1.242e+03, 5.627e+01\n",
       "  Z Bounds:\t1.999e+03, 2.646e+03\n",
       "  N Arrays:\t6"
      ]
     },
     "execution_count": 7,
     "metadata": {},
     "output_type": "execute_result"
    }
   ],
   "source": [
    "mesh = pv.read('Results\\dome.vtp')\n",
    "mesh"
   ]
  },
  {
   "cell_type": "code",
   "execution_count": null,
   "outputs": [],
   "source": [
    "pl = pv.PlotterITK()\n",
    "pl.add_mesh(mesh, scalars='PORO', smooth_shading=True)\n",
    "pl.show(True)"
   ],
   "metadata": {
    "collapsed": false,
    "pycharm": {
     "name": "#%%\n"
    }
   }
  },
  {
   "cell_type": "code",
   "execution_count": 9,
   "metadata": {},
   "outputs": [
    {
     "data": {
      "application/vnd.jupyter.widget-view+json": {
       "model_id": "38ea36bc82f94752b6efd811e3ee4a5f",
       "version_major": 2,
       "version_minor": 0
      },
      "text/plain": [
       "Viewer(geometries=[{'vtkClass': 'vtkPolyData', 'points': {'vtkClass': 'vtkPoints', 'name': '_points', 'numberO…"
      ]
     },
     "metadata": {},
     "output_type": "display_data"
    },
    {
     "data": {
      "application/vnd.jupyter.widget-view+json": {
       "model_id": "38ea36bc82f94752b6efd811e3ee4a5f",
       "version_major": 2,
       "version_minor": 0
      },
      "text/plain": [
       "Viewer(geometries=[{'vtkClass': 'vtkPolyData', 'points': {'vtkClass': 'vtkPoints', 'name': '_points', 'numberO…"
      ]
     },
     "metadata": {},
     "output_type": "display_data"
    }
   ],
   "source": [
    "mesh.plot(scalars=\"PORO\",show_edges=True, notebook=False)"
   ]
  },
  {
   "cell_type": "code",
   "execution_count": 8,
   "metadata": {},
   "outputs": [
    {
     "ename": "AttributeError",
     "evalue": "'vtkRenderingOpenGL2Python.vtkWin32RenderWindowInte' object has no attribute 'ProcessEvents'",
     "output_type": "error",
     "traceback": [
      "\u001B[1;31m---------------------------------------------------------------------------\u001B[0m",
      "\u001B[1;31mAttributeError\u001B[0m                            Traceback (most recent call last)",
      "\u001B[1;32m<ipython-input-8-f66b7cd3aed3>\u001B[0m in \u001B[0;36m<module>\u001B[1;34m\u001B[0m\n\u001B[1;32m----> 1\u001B[1;33m \u001B[0mmesh\u001B[0m\u001B[1;33m.\u001B[0m\u001B[0mplot\u001B[0m\u001B[1;33m(\u001B[0m\u001B[0mscalars\u001B[0m\u001B[1;33m=\u001B[0m\u001B[1;34m\"PORO\"\u001B[0m\u001B[1;33m,\u001B[0m\u001B[0mshow_edges\u001B[0m\u001B[1;33m=\u001B[0m\u001B[1;32mTrue\u001B[0m\u001B[1;33m,\u001B[0m \u001B[0mnotebook\u001B[0m\u001B[1;33m=\u001B[0m\u001B[1;32mFalse\u001B[0m\u001B[1;33m)\u001B[0m\u001B[1;33m\u001B[0m\u001B[1;33m\u001B[0m\u001B[0m\n\u001B[0m",
      "\u001B[1;32m~\\Anaconda3\\lib\\site-packages\\pyvista\\plotting\\helpers.py\u001B[0m in \u001B[0;36mplot\u001B[1;34m(var_item, off_screen, full_screen, screenshot, interactive, cpos, window_size, show_bounds, show_axes, notebook, background, text, return_img, eye_dome_lighting, volume, parallel_projection, use_ipyvtk, **kwargs)\u001B[0m\n\u001B[0;32m    145\u001B[0m                           \u001B[0mreturn_img\u001B[0m\u001B[1;33m=\u001B[0m\u001B[0mreturn_img\u001B[0m\u001B[1;33m,\u001B[0m\u001B[1;33m\u001B[0m\u001B[1;33m\u001B[0m\u001B[0m\n\u001B[0;32m    146\u001B[0m                           \u001B[0muse_ipyvtk\u001B[0m\u001B[1;33m=\u001B[0m\u001B[0muse_ipyvtk\u001B[0m\u001B[1;33m,\u001B[0m\u001B[1;33m\u001B[0m\u001B[1;33m\u001B[0m\u001B[0m\n\u001B[1;32m--> 147\u001B[1;33m                           before_close_callback=before_close_callback)\n\u001B[0m\u001B[0;32m    148\u001B[0m \u001B[1;33m\u001B[0m\u001B[0m\n\u001B[0;32m    149\u001B[0m     \u001B[1;31m# Result will be handled by plotter.show(): cpos or [cpos, img]\u001B[0m\u001B[1;33m\u001B[0m\u001B[1;33m\u001B[0m\u001B[1;33m\u001B[0m\u001B[0m\n",
      "\u001B[1;32m~\\Anaconda3\\lib\\site-packages\\pyvista\\plotting\\plotting.py\u001B[0m in \u001B[0;36mshow\u001B[1;34m(self, title, window_size, interactive, auto_close, interactive_update, full_screen, screenshot, return_img, cpos, use_ipyvtk, **kwargs)\u001B[0m\n\u001B[0;32m   4389\u001B[0m                 \u001B[1;32mif\u001B[0m \u001B[1;32mnot\u001B[0m \u001B[0minteractive_update\u001B[0m\u001B[1;33m:\u001B[0m\u001B[1;33m\u001B[0m\u001B[1;33m\u001B[0m\u001B[0m\n\u001B[0;32m   4390\u001B[0m                     \u001B[1;32mif\u001B[0m \u001B[0mos\u001B[0m\u001B[1;33m.\u001B[0m\u001B[0mname\u001B[0m \u001B[1;33m==\u001B[0m \u001B[1;34m'nt'\u001B[0m\u001B[1;33m:\u001B[0m\u001B[1;33m\u001B[0m\u001B[1;33m\u001B[0m\u001B[0m\n\u001B[1;32m-> 4391\u001B[1;33m                         \u001B[0mself\u001B[0m\u001B[1;33m.\u001B[0m\u001B[0miren\u001B[0m\u001B[1;33m.\u001B[0m\u001B[0mProcessEvents\u001B[0m\u001B[1;33m(\u001B[0m\u001B[1;33m)\u001B[0m  \u001B[1;31m# Resolves #1260\u001B[0m\u001B[1;33m\u001B[0m\u001B[1;33m\u001B[0m\u001B[0m\n\u001B[0m\u001B[0;32m   4392\u001B[0m                     \u001B[0mself\u001B[0m\u001B[1;33m.\u001B[0m\u001B[0miren\u001B[0m\u001B[1;33m.\u001B[0m\u001B[0mStart\u001B[0m\u001B[1;33m(\u001B[0m\u001B[1;33m)\u001B[0m\u001B[1;33m\u001B[0m\u001B[1;33m\u001B[0m\u001B[0m\n\u001B[0;32m   4393\u001B[0m                 \u001B[0mself\u001B[0m\u001B[1;33m.\u001B[0m\u001B[0miren\u001B[0m\u001B[1;33m.\u001B[0m\u001B[0mInitialize\u001B[0m\u001B[1;33m(\u001B[0m\u001B[1;33m)\u001B[0m\u001B[1;33m\u001B[0m\u001B[1;33m\u001B[0m\u001B[0m\n",
      "\u001B[1;31mAttributeError\u001B[0m: 'vtkRenderingOpenGL2Python.vtkWin32RenderWindowInte' object has no attribute 'ProcessEvents'"
     ]
    }
   ],
   "source": [
    "mesh.plot(scalars=\"PORO\",show_edges=True, notebook=False)"
   ]
  },
  {
   "cell_type": "code",
   "execution_count": null,
   "metadata": {},
   "outputs": [],
   "source": [
    "mesh.plot(scalars=\"PORO\",show_edges=True, notebook=True)"
   ]
  },
  {
   "cell_type": "markdown",
   "metadata": {},
   "source": [
    "### Exampel 2 - Load grid data and adding any custom field"
   ]
  },
  {
   "cell_type": "code",
   "execution_count": 7,
   "metadata": {},
   "outputs": [
    {
     "name": "stdout",
     "output_type": "stream",
     "text": [
      "[Input] Reading ECLIPSE/PETREL file \"./ExampleData/dome.grdecl\" ....\n",
      "     Grid Type=CornerPoint\n",
      "     Grid Dimension(NX,NY,NZ): (20 x 20 x 4)\n",
      "     NumOfGrids=1600\n",
      "     NumOfKeywords=11\n",
      "     Reading Keywords [SPECGRID]      [PORO]      [PERMX]      [PERMY]      [PERMZ] .....Done!\n",
      "[Input] Reading ECLIPSE/PETREL file \"./ExampleData/dome_Temperature.txt\" ....\n",
      "     Reading Keywords [TEMP] \n",
      "     New variable [TEMP] loaded from file!\n",
      "[Geometry] Converting GRDECL to Paraview Hexahedron mesh data....\n",
      "     NumOfPoints 12800\n",
      "     NumOfCells 1600\n",
      "     .....Done!\n",
      "[Output] Writing \"Results\\dome.vtu\" Paraview file....Done!\n"
     ]
    }
   ],
   "source": [
    "Model=GeologyModel(filename='./ExampleData/dome.grdecl')\n",
    "\n",
    "TempData=Model.LoadCellData(varname=\"TEMP\",filename='./ExampleData/dome_Temperature.txt')\n",
    "Model.GRDECL2VTK()\n",
    "Model.Write2VTU()"
   ]
  },
  {
   "cell_type": "code",
   "execution_count": null,
   "metadata": {},
   "outputs": [],
   "source": []
  }
 ],
 "metadata": {
  "kernelspec": {
   "display_name": "Python 3",
   "language": "python",
   "name": "python3"
  },
  "language_info": {
   "codemirror_mode": {
    "name": "ipython",
    "version": 3
   },
   "file_extension": ".py",
   "mimetype": "text/x-python",
   "name": "python",
   "nbconvert_exporter": "python",
   "pygments_lexer": "ipython3",
   "version": "3.6.13"
  }
 },
 "nbformat": 4,
 "nbformat_minor": 2
}