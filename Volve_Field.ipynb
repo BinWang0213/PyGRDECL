{
 "cells": [
  {
   "cell_type": "code",
   "execution_count": 1,
   "metadata": {},
   "outputs": [
    {
     "name": "stderr",
     "output_type": "stream",
     "text": [
      "F:\\PyGRDECL\\GRDECL_FaultProcess.py:37: UserWarning: No shapely module loaded.\n",
      "  warnings.warn(\"No shapely module loaded.\")\n"
     ]
    }
   ],
   "source": [
    "%matplotlib inline\n",
    "%load_ext autoreload\n",
    "%autoreload 2\n",
    "\n",
    "from GRDECL2VTK import *"
   ]
  },
  {
   "cell_type": "markdown",
   "metadata": {},
   "source": [
    "### Exampel 1 - Load grid data with perm and porosity"
   ]
  },
  {
   "cell_type": "code",
   "execution_count": 9,
   "metadata": {},
   "outputs": [
    {
     "name": "stdout",
     "output_type": "stream",
     "text": [
      "[Input] Reading ECLIPSE/PETREL file \"./ExampleData/dome.grdecl\" ....\n",
      "     Grid Type=CornerPoint\n",
      "     Grid Dimension(NX,NY,NZ): (20 x 20 x 4)\n",
      "     NumOfGrids=1600\n",
      "     NumOfKeywords=11\n",
      "     Reading Keywords [SPECGRID]      [PORO]      [PERMX]      [PERMY]      [PERMZ] .....Done!\n",
      "[Geometry] Converting GRDECL to Paraview Hexahedron mesh data....\n",
      "     NumOfPoints 12800\n",
      "     NumOfCells 1600\n",
      "     .....Done!\n",
      "[Output] Writing \"Results\\dome.vtu\" Paraview file....Done!\n"
     ]
    }
   ],
   "source": [
    "#Model=GeologyModel(filename='./ExampleData/Simple3x3x1.grdecl')\n",
    "#Model=GeologyModel(filename='./ExampleData/Simple20x20x5.grdecl')\n",
    "#Model=GeologyModel(filename='./ExampleData/Simple20x20x5_Fault.grdecl')\n",
    "#Model=GeologyModel(filename='./ExampleData/Simple10x10x3_Flat_Fault.grdecl')\n",
    "#Model=GeologyModel(filename='./ExampleData/Simple10x10x3_FlatCross_Fault.grdecl')\n",
    "#Model=GeologyModel(filename='./ExampleData/40X48x1_3fatults.grdecl')\n",
    "#Model=GeologyModel(filename='./ExampleData/snarkgrid.grdecl')\n",
    "#Model=GeologyModel(filename='./ExampleData/dome.grdecl')\n",
    "#Model=GeologyModel(filename='./ExampleData/pillar_36x48.grdecl')\n",
    "#Model=GeologyModel(filename='./ExampleData/Johansen.grdecl')\n",
    "#Model=GeologyModel(filename='./ExampleData/Norne.GRDECL')\n",
    "Model=GeologyModel(filename='./ExampleData/Volve.GRDECL')\n",
    "Model.GRDECL2VTK()\n",
    "Model.Write2VTU()"
   ]
  },
  {
   "cell_type": "code",
   "execution_count": 13,
   "metadata": {},
   "outputs": [
    {
     "name": "stdout",
     "output_type": "stream",
     "text": [
      "[FaultProcess] Found 7 faults.\n",
      "Added 1 new intersection pts\n",
      "[FaultProcess] Domain is splitted as 6 polygons.\n"
     ]
    },
    {
     "data": {
      "image/png": "[encoded data removed]",
      "text/plain": [
       "<Figure size 480x480 with 2 Axes>"
      ]
     },
     "metadata": {},
     "output_type": "display_data"
    },
    {
     "name": "stdout",
     "output_type": "stream",
     "text": [
      "[Output] Writing \"Results\\dome.vtu\" Paraview file....Done!\n"
     ]
    }
   ],
   "source": [
    "Model.decomposeModel()\n",
    "Model.Write2VTU()"
   ]
  },
  {
   "cell_type": "markdown",
   "metadata": {},
   "source": [
    "### Exampel 2 - Load grid data and adding any custom field"
   ]
  },
  {
   "cell_type": "code",
   "execution_count": 5,
   "metadata": {},
   "outputs": [
    {
     "name": "stdout",
     "output_type": "stream",
     "text": [
      "[Input] Reading ECLIPSE/PETREL file \"./ExampleData/Volve_NULLCELL.txt\" ....\n",
      "     Reading Keywords [NULL_CELL] \n",
      "     New variable [NULL_CELL] loaded from file!\n",
      "[Output] Writing \"Results\\Volve.vtu\" Paraview file....Done!\n"
     ]
    }
   ],
   "source": [
    "TempData=Model.LoadCellData(varname=\"NULL_CELL\",filename='./ExampleData/Volve_NULLCELL.txt')\n",
    "Model.Update()\n",
    "Model.Write2VTU()"
   ]
  },
  {
   "cell_type": "code",
   "execution_count": 6,
   "metadata": {},
   "outputs": [
    {
     "name": "stdout",
     "output_type": "stream",
     "text": [
      "[Input] Reading ECLIPSE/PETREL file \"./ExampleData/Volve_E.txt\" ....\n",
      "     Reading Keywords [E] \n",
      "     New variable [E] loaded from file!\n",
      "[Output] Writing \"Results\\Volve.vtu\" Paraview file....Done!\n"
     ]
    }
   ],
   "source": [
    "TempData=Model.LoadCellData(varname=\"E\",filename='./ExampleData/Volve_E.txt')\n",
    "Model.Update()\n",
    "Model.Write2VTU()"
   ]
  },
  {
   "cell_type": "code",
   "execution_count": 7,
   "metadata": {},
   "outputs": [
    {
     "name": "stdout",
     "output_type": "stream",
     "text": [
      "[Input] Reading ECLIPSE/PETREL file \"./ExampleData/Volve_v.txt\" ....\n",
      "     Reading Keywords [v] \n",
      "     New variable [v] loaded from file!\n",
      "[Output] Writing \"Results\\Volve.vtu\" Paraview file....Done!\n"
     ]
    }
   ],
   "source": [
    "TempData=Model.LoadCellData(varname=\"v\",filename='./ExampleData/Volve_v.txt')\n",
    "Model.Update()\n",
    "Model.Write2VTU()"
   ]
  },
  {
   "cell_type": "code",
   "execution_count": 8,
   "metadata": {},
   "outputs": [
    {
     "name": "stdout",
     "output_type": "stream",
     "text": [
      "[Input] Reading ECLIPSE/PETREL file \"./ExampleData/Volve_Sv.txt\" ....\n",
      "     Reading Keywords [Sv] \n",
      "     New variable [Sv] loaded from file!\n",
      "[Output] Writing \"Results\\Volve.vtu\" Paraview file....Done!\n"
     ]
    }
   ],
   "source": [
    "TempData=Model.LoadCellData(varname=\"Sv\",filename='./ExampleData/Volve_Sv.txt')\n",
    "Model.Update()\n",
    "Model.Write2VTU()"
   ]
  },
  {
   "cell_type": "code",
   "execution_count": null,
   "metadata": {},
   "outputs": [],
   "source": []
  }
 ],
 "metadata": {
  "kernelspec": {
   "display_name": "Python 3",
   "language": "python",
   "name": "python3"
  },
  "language_info": {
   "codemirror_mode": {
    "name": "ipython",
    "version": 3
   },
   "file_extension": ".py",
   "mimetype": "text/x-python",
   "name": "python",
   "nbconvert_exporter": "python",
   "pygments_lexer": "ipython3",
   "version": "3.7.0"
  }
 },
 "nbformat": 4,
 "nbformat_minor": 2
}
